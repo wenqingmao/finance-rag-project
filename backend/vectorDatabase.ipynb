{
 "cells": [
  {
   "cell_type": "code",
   "execution_count": 11,
   "metadata": {},
   "outputs": [],
   "source": [
    "import requests\n",
    "from datetime import datetime, timedelta\n",
    "import pandas as pd\n",
    "import os\n",
    "from dotenv import load_dotenv"
   ]
  },
  {
   "cell_type": "markdown",
   "metadata": {},
   "source": [
    "### FEtch Data from API"
   ]
  },
  {
   "cell_type": "code",
   "execution_count": 6,
   "metadata": {},
   "outputs": [],
   "source": [
    "def get_alpha_vantage_news(api_key, ticker, topic=None):\n",
    "    \"\"\"\n",
    "    Fetches news articles about `ticker` from the Alpha Vantage News API.\n",
    "    Optionally filters by `topic` (e.g., \"technology\", \"finance\", etc.).\n",
    "    Returns a list of dicts with article info (title, summary, sentiment, etc.).\n",
    "    \"\"\"\n",
    "\n",
    "    # Alpha Vantage 'NEWS_SENTIMENT' endpoint\n",
    "    url = \"https://www.alphavantage.co/query\"\n",
    "\n",
    "    # Base params\n",
    "    params = {\n",
    "        \"function\": \"NEWS_SENTIMENT\",\n",
    "        \"tickers\": ticker,\n",
    "        \"apikey\": api_key,\n",
    "        \"sort\": \"RELEVANCE\"\n",
    "    }\n",
    "\n",
    "    # If a topic was provided, include it in the params\n",
    "    # NOTE: The Alpha Vantage parameter for filtering by topic is \"topics\".\n",
    "    # E.g., topics=technology,ipo\n",
    "    if topic:\n",
    "        params[\"topics\"] = topic\n",
    "\n",
    "    response = requests.get(url, params=params)\n",
    "    print(\"Request URL:\", response.url)  # Debugging: see the final request\n",
    "    data = response.json()\n",
    "\n",
    "    # Check for errors\n",
    "    if \"feed\" not in data:\n",
    "        print(f\"Error fetching news from Alpha Vantage: {data}\")\n",
    "        return []\n",
    "\n",
    "    articles = data[\"feed\"]\n",
    "    return articles"
   ]
  },
  {
   "cell_type": "code",
   "execution_count": 7,
   "metadata": {},
   "outputs": [],
   "source": [
    "def get_company_overview(api_key, ticker):\n",
    "    \"\"\"\n",
    "    Fetches the company overview from Alpha Vantage using function=OVERVIEW.\n",
    "    Returns a Pandas DataFrame.\n",
    "    \"\"\"\n",
    "    url = \"https://www.alphavantage.co/query\"\n",
    "    params = {\n",
    "        \"function\": \"OVERVIEW\",\n",
    "        \"symbol\": ticker,\n",
    "        \"apikey\": api_key\n",
    "    }\n",
    "\n",
    "    response = requests.get(url, params=params)\n",
    "    data = response.json()\n",
    "\n",
    "    if \"Symbol\" not in data:\n",
    "        print(f\"Error fetching company overview: {data}\")\n",
    "        return None\n",
    "\n",
    "    # Convert JSON dictionary to a Pandas DataFrame\n",
    "    overview_df = pd.DataFrame.from_dict(data, orient='index', columns=['Value'])\n",
    "    overview_df.reset_index(inplace=True)\n",
    "    overview_df.columns = ['Field', 'Value']\n",
    "\n",
    "    return overview_df"
   ]
  },
  {
   "cell_type": "code",
   "execution_count": 8,
   "metadata": {},
   "outputs": [],
   "source": [
    "load_dotenv()\n",
    "ALPHA_VANTAGE_API_KEY = os.getenv(\"ALPHA_VANTAGE_API_KEY\")"
   ]
  },
  {
   "cell_type": "code",
   "execution_count": 9,
   "metadata": {},
   "outputs": [
    {
     "name": "stdout",
     "output_type": "stream",
     "text": [
      "Request URL: https://www.alphavantage.co/query?function=NEWS_SENTIMENT&tickers=TSLA&apikey=4RZANL9BTFIUH6KF&sort=RELEVANCE\n"
     ]
    }
   ],
   "source": [
    "articles = get_alpha_vantage_news(ALPHA_VANTAGE_API_KEY, \"TSLA\")\n",
    "articles = articles[:5]"
   ]
  },
  {
   "cell_type": "code",
   "execution_count": 14,
   "metadata": {},
   "outputs": [],
   "source": [
    "overview_data = get_company_overview(ALPHA_VANTAGE_API_KEY, \"TSLA\")"
   ]
  },
  {
   "cell_type": "markdown",
   "metadata": {},
   "source": [
    "### Unstructured Loader"
   ]
  },
  {
   "cell_type": "code",
   "execution_count": 16,
   "metadata": {},
   "outputs": [],
   "source": [
    "from langchain.document_loaders import UnstructuredURLLoader"
   ]
  },
  {
   "cell_type": "code",
   "execution_count": 17,
   "metadata": {},
   "outputs": [],
   "source": [
    "urls = []\n",
    "for i in range(len(articles)):\n",
    "    urls.append(articles[i]['url'])"
   ]
  },
  {
   "cell_type": "code",
   "execution_count": 18,
   "metadata": {},
   "outputs": [],
   "source": [
    "loader = UnstructuredURLLoader(urls=urls)"
   ]
  },
  {
   "cell_type": "code",
   "execution_count": 19,
   "metadata": {},
   "outputs": [
    {
     "data": {
      "text/plain": [
       "<langchain_community.document_loaders.url.UnstructuredURLLoader at 0x1577e6fd0>"
      ]
     },
     "execution_count": 19,
     "metadata": {},
     "output_type": "execute_result"
    }
   ],
   "source": [
    "loader"
   ]
  },
  {
   "cell_type": "code",
   "execution_count": 16,
   "metadata": {},
   "outputs": [
    {
     "name": "stderr",
     "output_type": "stream",
     "text": [
      "[nltk_data] Downloading package punkt to /Users/vincy/nltk_data...\n",
      "[nltk_data]   Package punkt is already up-to-date!\n",
      "[nltk_data] Downloading package averaged_perceptron_tagger to\n",
      "[nltk_data]     /Users/vincy/nltk_data...\n",
      "[nltk_data]   Package averaged_perceptron_tagger is already up-to-\n",
      "[nltk_data]       date!\n"
     ]
    },
    {
     "data": {
      "text/plain": [
       "True"
      ]
     },
     "execution_count": 16,
     "metadata": {},
     "output_type": "execute_result"
    }
   ],
   "source": [
    "import nltk\n",
    "nltk.download('punkt')\n",
    "nltk.download('averaged_perceptron_tagger')"
   ]
  },
  {
   "cell_type": "code",
   "execution_count": 20,
   "metadata": {},
   "outputs": [
    {
     "data": {
      "text/plain": [
       "5"
      ]
     },
     "execution_count": 20,
     "metadata": {},
     "output_type": "execute_result"
    }
   ],
   "source": [
    "data = loader.load()\n",
    "len(data)"
   ]
  },
  {
   "cell_type": "code",
   "execution_count": 21,
   "metadata": {},
   "outputs": [
    {
     "data": {
      "text/plain": [
       "[Document(metadata={'source': 'https://www.benzinga.com/news/22/04/26466681/nio-said-to-be-in-discussions-with-rivals-to-license-its-flagship-ev-battery-swap-tech'}, page_content='España\\n\\nIndia\\n\\nItalia\\n\\n대한민국\\n\\n日本\\n\\nBenzinga Edge\\n\\nBenzinga Research\\n\\nBenzinga Pro\\n\\nGet Benzinga Pro\\n\\nData & APIs\\n\\nEvents\\n\\nPremarket\\n\\nAdvertise\\n\\nContribute\\n\\nEspaña\\n\\nIndia\\n\\nItalia\\n\\n대한민국\\n\\n日本\\n\\nOur Services\\n\\nNews\\n\\nEarnings\\n\\nGuidance\\n\\nDividends\\n\\nM&A\\n\\nBuybacks\\n\\nLegal\\n\\nInterviews\\n\\nManagement\\n\\nOfferings\\n\\nIPOs\\n\\nInsider Trades\\n\\nBiotech/FDA\\n\\nPolitics\\n\\nHealthcare\\n\\nMarkets\\n\\nPre-Market\\n\\nAfter Hours\\n\\nMovers\\n\\nETFs\\n\\nForex\\n\\nCannabis\\n\\nCommodities\\n\\nBinary Options\\n\\nBonds\\n\\nFutures\\n\\nCME Group\\n\\nGlobal Economics\\n\\nMining\\n\\nPreviews\\n\\nSmall-Cap\\n\\nReal Estate\\n\\nPenny Stocks\\n\\nDigital Securities\\n\\nVolatility\\n\\nOptions\\n\\nRatings\\n\\nAnalyst Color\\n\\nDowngrades\\n\\nUpgrades\\n\\nInitiations\\n\\nPrice Target\\n\\nIdeas\\n\\nTrade Ideas\\n\\nLong Ideas\\n\\nShort Ideas\\n\\nTechnicals\\n\\nFrom The Press\\n\\nJim Cramer\\n\\nRumors\\n\\nWhisper Index\\n\\nStock of the Day\\n\\nBest Stocks & ETFs\\n\\nBest Penny Stocks\\n\\nBest S&P 500 ETFs\\n\\nBest Swing Trade Stocks\\n\\nBest Blue Chip Stocks\\n\\nBest High-Volume Penny Stocks\\n\\nBest Small Cap ETFs\\n\\nBest Stocks to Day Trade\\n\\nBest REITs\\n\\nMoney\\n\\nInvesting\\n\\nCryptocurrency\\n\\nMortgage\\n\\nInsurance\\n\\nYield\\n\\nPersonal Finance\\n\\nForex\\n\\nStartup Investing\\n\\nReal Estate Investing\\n\\nProp Trading\\n\\nCredit Cards\\n\\nStock Brokers\\n\\nCrypto\\n\\nResearch\\n\\nMy Stocks\\n\\nTools\\n\\nFree Benzinga Pro Trial\\n\\nCalendars\\n\\nAnalyst Ratings Calendar\\n\\nConference Call Calendar\\n\\nDividend Calendar\\n\\nEarnings Calendar\\n\\nEconomic Calendar\\n\\nFDA Calendar\\n\\nGuidance Calendar\\n\\nIPO Calendar\\n\\nM&A Calendar\\n\\nSPAC Calendar\\n\\nStock Split Calendar\\n\\nTrade Ideas\\n\\nFree Stock Reports\\n\\nInsider Trades\\n\\nTrade Idea Feed\\n\\nAnalyst Ratings\\n\\nUnusual Options Activity\\n\\nHeatmaps\\n\\nFree Newsletter\\n\\nGovernment Trades\\n\\nPerfect Stock Portfolio\\n\\nEasy Income Portfolio\\n\\nShort Interest\\n\\nMost Shorted\\n\\nLargest Increase\\n\\nLargest Decrease\\n\\nCalculators\\n\\nMargin Calculator\\n\\nForex Profit Calculator\\n\\n100x Options Profit Calculator\\n\\nApril 5, 2022 1:04 AM 1 min read\\n\\nNio Said To Be In Discussions With Rivals To License Its Flagship EV Battery-Swap Tech\\n\\nby Rachit Vats Benzinga Staff Writer\\n\\nFollow\\n\\nNIONIO Inc\\n\\n$4.26-7.99%\\n\\nStock Score Locked: Edge Members Only\\n\\nBenzinga Rankings give you vital metrics on any stock – anytime.\\n\\nUnlock Rankings\\n\\nEdge Rankings\\n\\nMomentum50.51\\n\\nGrowth46.36\\n\\nQuality-\\n\\nValue59.53\\n\\nPrice Trend\\n\\nShort\\n\\nMedium\\n\\nLong\\n\\nOverview\\n\\nBYDDYBYD Co Ltd\\n\\n$89.00-7.11%\\n\\nLILi Auto Inc\\n\\n$27.17-11.6%\\n\\nXPEVXPeng Inc\\n\\n$19.98-7.03%\\n\\nComments\\n\\nLoading...\\n\\nNio Inc NIO is in talks with several automakers for licensing its battery-swapping technology, Financial Times reported on Tuesday, citing the electric vehicle maker’s European president Hui Zhang.\\n\\nWhat Happened: Shanghai-based Nio is in talks with Chinese and international car groups to open its network of charging stations.\\n\\nNio estimates the number of power swap stations would increase to 5,000 by the middle of the decade, from over 800 now.\\n\\nThe maker of ES8 SUVs aims to have 1,000 swapping stations outside China by 2025.\\n\\nThe company last month told analysts it plans to further expand into Europe and enter new markets, including Germany, Netherlands, Sweden, and Denmark this year.\\n\\nWhy It Matters: Nio, which competes with Xpeng Inc XPEV, BYD Co BYDDY as well as global EV leader Tesla Inc TSLA and Volkswagen Group VWAGY, is among early adopters of the battery-swapping service and has been aggressively scaling up the offering.\\n\\nBattery swapping is still a niche EV energy solution compared with charging and is mostly used for fleet vehicles.\\n\\nTesla on the other hand has been scaling up its supercharging network. The EV maker has over 30,000 superchargers globally, of which over 8,000 are in China.\\n\\nPrice Action: Nio stock closed 8.7% higher at $23.8 a share on Monday.\\n\\nPhoto courtesy: Nio\\n\\nNIONIO Inc\\n\\n$4.26-7.99%\\n\\nOverview\\n\\nBYDDYBYD Co Ltd\\n\\n$89.00-7.11%\\n\\nLILi Auto Inc\\n\\n$27.17-11.6%\\n\\nXPEVXPeng Inc\\n\\n$19.98-7.03%\\n\\nMarket News and Data brought to you by Benzinga APIs\\n\\n© 2025 Benzinga.com. Benzinga does not provide investment advice. All rights reserved.\\n\\nPosted In:\\n\\nNewsTechMediaBattery swappingelectric vehiclesES8EVsHui Zhang\\n\\nBenzinga simplifies the market for smarter investing\\n\\nTrade confidently with insights and alerts from analyst ratings, free reports and breaking news that affects the stocks you care about.\\n\\nJoin Now: Free!\\n\\nAlready a member?Sign in\\n\\nPopular Channels\\n\\nPreMarket Playbook\\n\\nPress Releases\\n\\nAnalyst Ratings\\n\\nNews\\n\\nOptions\\n\\nETFs\\n\\nTools & Features\\n\\nReal Time Feed\\n\\nPublic RSS Feeds\\n\\nSubmit News Tips\\n\\nBlog\\n\\nEmbeddable Finance Widgets & Tools\\n\\nBenzinga Catalyst\\n\\nPartners & Contributors\\n\\nAffiliate Program\\n\\nContributor Portal\\n\\nLicensing & Syndication\\n\\nSponsored Content\\n\\nAdvertise With Us\\n\\nLead Generation & SEO\\n\\nAbout Benzinga\\n\\nAbout Us\\n\\nCareers\\n\\nIn The News\\n\\nEvents\\n\\nContact Us\\n\\nTerms & Conditions\\n\\nDo Not Sell My Personal Data/Privacy Policy\\n\\nDisclaimer\\n\\nService Status\\n\\nSitemap\\n\\n© 2025 Benzinga | All Rights Reserved'),\n",
       " Document(metadata={'source': 'https://www.barrons.com/articles/elon-musk-sells-tesla-stock-51671073393'}, page_content=\"Stock PicksLists & RankingsMagazineDataAdvisor\\n\\nUser settings temporarily unavailable\\n\\n404\\n\\nThat content doesn't seem to exist... have you tried going to the home page, or exploring an interest?\\n\\nMeanwhile, here are some important items you'll want to know:\\n\\nTrump’s Trade War Begins. Canada and China Retaliate, and Mexico Is Next.\\n\\nRockwell Automation and 4 More Industrial Stocks That May Benefit From Tariffs\\n\\nDollar Drops on Trump Tariffs. Why Its Haven Status May Be Fading.\"),\n",
       " Document(metadata={'source': 'https://www.barrons.com/articles/tesla-brand-twitter-elon-musk-51670857158'}, page_content=\"Stock PicksLists & RankingsMagazineDataAdvisor\\n\\nUser settings temporarily unavailable\\n\\n404\\n\\nThat content doesn't seem to exist... have you tried going to the home page, or exploring an interest?\\n\\nMeanwhile, here are some important items you'll want to know:\\n\\nTrump’s Trade War Begins. Canada and China Retaliate, and Mexico Is Next.\\n\\nRockwell Automation and 4 More Industrial Stocks That May Benefit From Tariffs\\n\\nDollar Drops on Trump Tariffs. Why Its Haven Status May Be Fading.\"),\n",
       " Document(metadata={'source': 'https://www.benzinga.com/markets/commodities/22/02/25635956/this-coal-stock-has-a-better-1-year-return-than-nvidia-ford-starbucks-tesla-bitcoin-apple'}, page_content=\"España\\n\\nIndia\\n\\nItalia\\n\\n대한민국\\n\\n日本\\n\\nBenzinga Edge\\n\\nBenzinga Research\\n\\nBenzinga Pro\\n\\nGet Benzinga Pro\\n\\nData & APIs\\n\\nEvents\\n\\nPremarket\\n\\nAdvertise\\n\\nContribute\\n\\nEspaña\\n\\nIndia\\n\\nItalia\\n\\n대한민국\\n\\n日本\\n\\nOur Services\\n\\nNews\\n\\nEarnings\\n\\nGuidance\\n\\nDividends\\n\\nM&A\\n\\nBuybacks\\n\\nLegal\\n\\nInterviews\\n\\nManagement\\n\\nOfferings\\n\\nIPOs\\n\\nInsider Trades\\n\\nBiotech/FDA\\n\\nPolitics\\n\\nHealthcare\\n\\nMarkets\\n\\nPre-Market\\n\\nAfter Hours\\n\\nMovers\\n\\nETFs\\n\\nForex\\n\\nCannabis\\n\\nCommodities\\n\\nBinary Options\\n\\nBonds\\n\\nFutures\\n\\nCME Group\\n\\nGlobal Economics\\n\\nMining\\n\\nPreviews\\n\\nSmall-Cap\\n\\nReal Estate\\n\\nPenny Stocks\\n\\nDigital Securities\\n\\nVolatility\\n\\nOptions\\n\\nRatings\\n\\nAnalyst Color\\n\\nDowngrades\\n\\nUpgrades\\n\\nInitiations\\n\\nPrice Target\\n\\nIdeas\\n\\nTrade Ideas\\n\\nLong Ideas\\n\\nShort Ideas\\n\\nTechnicals\\n\\nFrom The Press\\n\\nJim Cramer\\n\\nRumors\\n\\nWhisper Index\\n\\nStock of the Day\\n\\nBest Stocks & ETFs\\n\\nBest Penny Stocks\\n\\nBest S&P 500 ETFs\\n\\nBest Swing Trade Stocks\\n\\nBest Blue Chip Stocks\\n\\nBest High-Volume Penny Stocks\\n\\nBest Small Cap ETFs\\n\\nBest Stocks to Day Trade\\n\\nBest REITs\\n\\nMoney\\n\\nInvesting\\n\\nCryptocurrency\\n\\nMortgage\\n\\nInsurance\\n\\nYield\\n\\nPersonal Finance\\n\\nForex\\n\\nStartup Investing\\n\\nReal Estate Investing\\n\\nProp Trading\\n\\nCredit Cards\\n\\nStock Brokers\\n\\nCrypto\\n\\nResearch\\n\\nMy Stocks\\n\\nTools\\n\\nFree Benzinga Pro Trial\\n\\nCalendars\\n\\nAnalyst Ratings Calendar\\n\\nConference Call Calendar\\n\\nDividend Calendar\\n\\nEarnings Calendar\\n\\nEconomic Calendar\\n\\nFDA Calendar\\n\\nGuidance Calendar\\n\\nIPO Calendar\\n\\nM&A Calendar\\n\\nSPAC Calendar\\n\\nStock Split Calendar\\n\\nTrade Ideas\\n\\nFree Stock Reports\\n\\nInsider Trades\\n\\nTrade Idea Feed\\n\\nAnalyst Ratings\\n\\nUnusual Options Activity\\n\\nHeatmaps\\n\\nFree Newsletter\\n\\nGovernment Trades\\n\\nPerfect Stock Portfolio\\n\\nEasy Income Portfolio\\n\\nShort Interest\\n\\nMost Shorted\\n\\nLargest Increase\\n\\nLargest Decrease\\n\\nCalculators\\n\\nMargin Calculator\\n\\nForex Profit Calculator\\n\\n100x Options Profit Calculator\\n\\nJune 17, 2022 9:51 AM 1 min read\\n\\nThis Coal Stock Has A Better 1-Year Return Than Nvidia, Ford, Apple, Microsoft, Starbucks, Tesla, Bitcoin And Ethereum\\n\\nby Henry Khederian Benzinga Editor\\n\\nFollow\\n\\nBTUPeabody Energy Corp\\n\\n$12.76-2.63%\\n\\nStock Score Locked: Want to See it?\\n\\nBenzinga Rankings give you vital metrics on any stock – anytime.\\n\\nReveal Full Score\\n\\nEdge Rankings\\n\\nMomentum9.88\\n\\nGrowth32.14\\n\\nQuality-\\n\\nValue98.37\\n\\nPrice Trend\\n\\nShort\\n\\nMedium\\n\\nLong\\n\\nOverview\\n\\n$BTCBitcoin\\n\\n$85626.40-0.62%\\n\\n$ETHEthereum\\n\\n$2129.76-0.82%\\n\\nAAPLApple Inc\\n\\n$236.55-0.62%\\n\\nFFord Motor Co\\n\\n$9.18-2.29%\\n\\nMSFTMicrosoft Corp\\n\\n$384.80-0.95%\\n\\nNVDANVIDIA Corp\\n\\n$115.651.39%\\n\\nSBUXStarbucks Corp\\n\\n$112.95-2.13%\\n\\nTSLATesla Inc\\n\\n$271.44-4.64%\\n\\nComments\\n\\nLoading...\\n\\nPeabody Energy Corporation BTU is the largest private-sector coal company in the world, and over the past year, one of the largest gainers in American markets.\\n\\nSince June 2021, Peabody Energy stock’s one-year return has outperformed several of the world’s most popular tech, EV and consumer discretionary stocks: NVIDIA Corporation NVDA, Ford Motor Company F, Apple Inc AAPL, Microsoft Corporation MSFT, Starbucks Corporation SBUX, Tesla Inc TSLA, Bitcoin BTC/USD and Ethereum ETH/USD.\\n\\nPeabody Energy is in the coal mining business in the U.S., Japan, Taiwan, Australia, China, among other international locations.\\n\\nOutside of mining, preparing and selling coal, Peabody Energy also engages in direct and brokered trading of coal and freight-related contracts, as well as provides transportation-related services which involve financial derivative contracts and physical contracts.\\n\\nPeabody Energy was founded in 1883 and is headquartered in St. Louis, Missouri.\\n\\nHere's how the returns break down from June 2021 to present:\\n\\nFord is down from $14.77 to $11.32 for a return of -23.32%\\n\\nNvidia is down from $186.57 to $159.24 for a return of -14.65%\\n\\nStarbucks is down from $111.39 to $71.17 for a return of -36.11%\\n\\nTesla is up from $616.60 to $658.12 for a return of 6.73%\\n\\nBitcoin is down from $38,094.70 to $20,828.10 for a return of -45.33%\\n\\nEthereum is down from $2,373.86 to $1,097.81 for a return of -53.75%\\n\\nAnd finally, Peabody Energy is up from $7.70 to $22.18 for a return of 188.05%\\n\\nBTUPeabody Energy Corp\\n\\n$12.76-2.63%\\n\\nOverview\\n\\n$BTCBitcoin\\n\\n$85626.40-0.62%\\n\\n$ETHEthereum\\n\\n$2129.76-0.82%\\n\\nAAPLApple Inc\\n\\n$236.55-0.62%\\n\\nFFord Motor Co\\n\\n$9.18-2.29%\\n\\nMSFTMicrosoft Corp\\n\\n$384.80-0.95%\\n\\nNVDANVIDIA Corp\\n\\n$115.651.39%\\n\\nSBUXStarbucks Corp\\n\\n$112.95-2.13%\\n\\nTSLATesla Inc\\n\\n$271.44-4.64%\\n\\nMarket News and Data brought to you by Benzinga APIs\\n\\n© 2025 Benzinga.com. Benzinga does not provide investment advice. All rights reserved.\\n\\nPosted In:\\n\\nEducationCommoditiesMarketsMoversTrading IdeasGeneral\\n\\nBenzinga simplifies the market for smarter investing\\n\\nTrade confidently with insights and alerts from analyst ratings, free reports and breaking news that affects the stocks you care about.\\n\\nJoin Now: Free!\\n\\nAlready a member?Sign in\\n\\nPopular Channels\\n\\nPreMarket Playbook\\n\\nPress Releases\\n\\nAnalyst Ratings\\n\\nNews\\n\\nOptions\\n\\nETFs\\n\\nTools & Features\\n\\nReal Time Feed\\n\\nPublic RSS Feeds\\n\\nSubmit News Tips\\n\\nBlog\\n\\nEmbeddable Finance Widgets & Tools\\n\\nBenzinga Catalyst\\n\\nPartners & Contributors\\n\\nAffiliate Program\\n\\nContributor Portal\\n\\nLicensing & Syndication\\n\\nSponsored Content\\n\\nAdvertise With Us\\n\\nLead Generation & SEO\\n\\nAbout Benzinga\\n\\nAbout Us\\n\\nCareers\\n\\nIn The News\\n\\nEvents\\n\\nContact Us\\n\\nTerms & Conditions\\n\\nDo Not Sell My Personal Data/Privacy Policy\\n\\nDisclaimer\\n\\nService Status\\n\\nSitemap\\n\\n© 2025 Benzinga | All Rights Reserved\"),\n",
       " Document(metadata={'source': 'https://www.fool.com/investing/2023/05/26/what-will-tesla-gain-from-the-ford-partnership/'}, page_content=\"▲ S&P 500 +---% | ▲ Stock Advisor +---% Join The Motley Fool\\n\\nAccessibility Log In Help\\n\\nAccessibility Menu\\n\\nFree Article\\n\\nYou're reading a free article with opinions that may differ from The Motley Fool's Premium Investing Services. Become a Motley Fool member today to get instant access to our top analyst recommendations, in-depth research, investing resources, and more. Learn More\\n\\nWhat Will Tesla Gain from the Ford Partnership?\\n\\nBy Neil Rozenbaum – May 26, 2023 at 11:36AM\\n\\nNASDAQ: TSLA\\n\\nTesla\\n\\nMarket Cap\\n\\n$916B\\n\\nToday's Change\\n\\n(-5.19%) -$14.78\\n\\nCurrent Price\\n\\n$269.87\\n\\nPrice as of March 4, 2025, 1:02 p.m. ET\\n\\nThis unexpected partnership shocked the industry.\\n\\nIn this video, I will talk about the recent partnership between Ford and Tesla (TSLA -5.19%), what Tesla will gain from it, and why it might be only the start.\\n\\nStock prices used were from the trading day of May 25, 2023. The video was published on May 26, 2023.\\n\\nNeil Rozenbaum has positions in Tesla. The Motley Fool has positions in and recommends Tesla. The Motley Fool has a disclosure policy. Neil is an affiliate of The Motley Fool and may be compensated for promoting its services. If you choose to subscribe through his link, he will earn some extra money that supports his channel. His opinions remain his own and are unaffected by The Motley Fool.\\n\\nRelated Articles\\n\\nUber CEO Dara Khosrowshahi Just Gave Tesla Investors a Stark Warning\\n\\nTesla Stock: Is This Pullback a Buying Opportunity?\\n\\nCould President Trump's Tariffs Rattle Tesla Stock? Here's What History Suggests.\\n\\nTesla Stock vs. Apple Stock: Billionaires Buy One and Sell the Other\\n\\nBetter Buy in 2025: Tesla Stock or Meta Platforms Stock?\\n\\n863%\\n\\nPremium Investing Services\\n\\nInvest better with The Motley Fool. Get stock recommendations, portfolio guidance, and more from The Motley Fool's premium services.\\n\\nView Premium Services\\n\\nMaking the world smarter, happier, and richer.\\n\\nFacebook\\n\\nTwitter\\n\\nLinked In\\n\\nPinterest\\n\\nYouTube\\n\\nInstagram\\n\\nTiktok\\n\\n© 1995 - 2025 The Motley Fool. All rights reserved.\\n\\nMarket data powered by Xignite and Polygon.io.\\n\\nAbout The Motley Fool\\n\\nAbout Us\\n\\nCareers\\n\\nResearch\\n\\nNewsroom\\n\\nContact\\n\\nAdvertise\\n\\nOur Services\\n\\nAll Services\\n\\nStock Advisor\\n\\nEpic\\n\\nEpic Plus\\n\\nFool Portfolios\\n\\nFool One\\n\\nMotley Fool Money\\n\\nAround the Globe\\n\\nFool UK\\n\\nFool Australia\\n\\nFool Canada\\n\\nFree Tools\\n\\nCAPS Stock Ratings\\n\\nDiscussion Boards\\n\\nCalculators\\n\\nFinancial Dictionary\\n\\nAffiliates & Friends\\n\\nMotley Fool Asset Management\\n\\nMotley Fool Wealth Management\\n\\nMotley Fool Ventures\\n\\nMotley Fool Foundation\\n\\nBecome an Affiliate Partner\\n\\nTerms of Use\\n\\nPrivacy Policy\\n\\nDisclosure Policy\\n\\nAccessibility Policy\\n\\nCopyright, Trademark and Patent Information\\n\\nTerms and Conditions\\n\\nDo Not Sell My Personal Information\\n\\nCurrent\")]"
      ]
     },
     "execution_count": 21,
     "metadata": {},
     "output_type": "execute_result"
    }
   ],
   "source": [
    "data"
   ]
  },
  {
   "cell_type": "code",
   "execution_count": 22,
   "metadata": {},
   "outputs": [],
   "source": [
    "pages = []\n",
    "for doc in data:\n",
    "    pages.append(doc.page_content)\n"
   ]
  },
  {
   "cell_type": "code",
   "execution_count": 23,
   "metadata": {},
   "outputs": [
    {
     "data": {
      "text/plain": [
       "5"
      ]
     },
     "execution_count": 23,
     "metadata": {},
     "output_type": "execute_result"
    }
   ],
   "source": [
    "len(pages)"
   ]
  },
  {
   "cell_type": "markdown",
   "metadata": {},
   "source": [
    "#### RecursiveTextSplitter"
   ]
  },
  {
   "cell_type": "code",
   "execution_count": 32,
   "metadata": {},
   "outputs": [],
   "source": [
    "from langchain.text_splitter import RecursiveCharacterTextSplitter"
   ]
  },
  {
   "cell_type": "code",
   "execution_count": 33,
   "metadata": {},
   "outputs": [],
   "source": [
    "text_splitter = RecursiveCharacterTextSplitter(\n",
    "    separators=['\\n\\n', '\\n', '.', ','],\n",
    "    chunk_size=1000\n",
    ")"
   ]
  },
  {
   "cell_type": "code",
   "execution_count": 34,
   "metadata": {},
   "outputs": [],
   "source": [
    "docs = text_splitter.split_documents(data)"
   ]
  },
  {
   "cell_type": "code",
   "execution_count": 38,
   "metadata": {},
   "outputs": [
    {
     "data": {
      "text/plain": [
       "[Document(metadata={'source': 'https://www.benzinga.com/news/22/04/26466681/nio-said-to-be-in-discussions-with-rivals-to-license-its-flagship-ev-battery-swap-tech'}, page_content='España\\n\\nIndia\\n\\nItalia\\n\\n대한민국\\n\\n日本\\n\\nBenzinga Edge\\n\\nBenzinga Research\\n\\nBenzinga Pro\\n\\nGet Benzinga Pro\\n\\nData & APIs\\n\\nEvents\\n\\nPremarket\\n\\nAdvertise\\n\\nContribute\\n\\nEspaña\\n\\nIndia\\n\\nItalia\\n\\n대한민국\\n\\n日本\\n\\nOur Services\\n\\nNews\\n\\nEarnings\\n\\nGuidance\\n\\nDividends\\n\\nM&A\\n\\nBuybacks\\n\\nLegal\\n\\nInterviews\\n\\nManagement\\n\\nOfferings\\n\\nIPOs\\n\\nInsider Trades\\n\\nBiotech/FDA\\n\\nPolitics\\n\\nHealthcare\\n\\nMarkets\\n\\nPre-Market\\n\\nAfter Hours\\n\\nMovers\\n\\nETFs\\n\\nForex\\n\\nCannabis\\n\\nCommodities\\n\\nBinary Options\\n\\nBonds\\n\\nFutures\\n\\nCME Group\\n\\nGlobal Economics\\n\\nMining\\n\\nPreviews\\n\\nSmall-Cap\\n\\nReal Estate\\n\\nPenny Stocks\\n\\nDigital Securities\\n\\nVolatility\\n\\nOptions\\n\\nRatings\\n\\nAnalyst Color\\n\\nDowngrades\\n\\nUpgrades\\n\\nInitiations\\n\\nPrice Target\\n\\nIdeas\\n\\nTrade Ideas\\n\\nLong Ideas\\n\\nShort Ideas\\n\\nTechnicals\\n\\nFrom The Press\\n\\nJim Cramer\\n\\nRumors\\n\\nWhisper Index\\n\\nStock of the Day\\n\\nBest Stocks & ETFs\\n\\nBest Penny Stocks\\n\\nBest S&P 500 ETFs\\n\\nBest Swing Trade Stocks\\n\\nBest Blue Chip Stocks\\n\\nBest High-Volume Penny Stocks\\n\\nBest Small Cap ETFs\\n\\nBest Stocks to Day Trade\\n\\nBest REITs\\n\\nMoney\\n\\nInvesting'),\n",
       " Document(metadata={'source': 'https://www.benzinga.com/news/22/04/26466681/nio-said-to-be-in-discussions-with-rivals-to-license-its-flagship-ev-battery-swap-tech'}, page_content='Best Penny Stocks\\n\\nBest S&P 500 ETFs\\n\\nBest Swing Trade Stocks\\n\\nBest Blue Chip Stocks\\n\\nBest High-Volume Penny Stocks\\n\\nBest Small Cap ETFs\\n\\nBest Stocks to Day Trade\\n\\nBest REITs\\n\\nMoney\\n\\nInvesting\\n\\nCryptocurrency\\n\\nMortgage\\n\\nInsurance\\n\\nYield\\n\\nPersonal Finance\\n\\nForex\\n\\nStartup Investing\\n\\nReal Estate Investing\\n\\nProp Trading\\n\\nCredit Cards\\n\\nStock Brokers\\n\\nCrypto\\n\\nResearch\\n\\nMy Stocks\\n\\nTools\\n\\nFree Benzinga Pro Trial\\n\\nCalendars\\n\\nAnalyst Ratings Calendar\\n\\nConference Call Calendar\\n\\nDividend Calendar\\n\\nEarnings Calendar\\n\\nEconomic Calendar\\n\\nFDA Calendar\\n\\nGuidance Calendar\\n\\nIPO Calendar\\n\\nM&A Calendar\\n\\nSPAC Calendar\\n\\nStock Split Calendar\\n\\nTrade Ideas\\n\\nFree Stock Reports\\n\\nInsider Trades\\n\\nTrade Idea Feed\\n\\nAnalyst Ratings\\n\\nUnusual Options Activity\\n\\nHeatmaps\\n\\nFree Newsletter\\n\\nGovernment Trades\\n\\nPerfect Stock Portfolio\\n\\nEasy Income Portfolio\\n\\nShort Interest\\n\\nMost Shorted\\n\\nLargest Increase\\n\\nLargest Decrease\\n\\nCalculators\\n\\nMargin Calculator\\n\\nForex Profit Calculator\\n\\n100x Options Profit Calculator'),\n",
       " Document(metadata={'source': 'https://www.benzinga.com/news/22/04/26466681/nio-said-to-be-in-discussions-with-rivals-to-license-its-flagship-ev-battery-swap-tech'}, page_content='Easy Income Portfolio\\n\\nShort Interest\\n\\nMost Shorted\\n\\nLargest Increase\\n\\nLargest Decrease\\n\\nCalculators\\n\\nMargin Calculator\\n\\nForex Profit Calculator\\n\\n100x Options Profit Calculator\\n\\nApril 5, 2022 1:04 AM 1 min read\\n\\nNio Said To Be In Discussions With Rivals To License Its Flagship EV Battery-Swap Tech\\n\\nby Rachit Vats Benzinga Staff Writer\\n\\nFollow\\n\\nNIONIO Inc\\n\\n$4.26-7.99%\\n\\nStock Score Locked: Edge Members Only\\n\\nBenzinga Rankings give you vital metrics on any stock – anytime.\\n\\nUnlock Rankings\\n\\nEdge Rankings\\n\\nMomentum50.51\\n\\nGrowth46.36\\n\\nQuality-\\n\\nValue59.53\\n\\nPrice Trend\\n\\nShort\\n\\nMedium\\n\\nLong\\n\\nOverview\\n\\nBYDDYBYD Co Ltd\\n\\n$89.00-7.11%\\n\\nLILi Auto Inc\\n\\n$27.17-11.6%\\n\\nXPEVXPeng Inc\\n\\n$19.98-7.03%\\n\\nComments\\n\\nLoading...\\n\\nNio Inc NIO is in talks with several automakers for licensing its battery-swapping technology, Financial Times reported on Tuesday, citing the electric vehicle maker’s European president Hui Zhang.'),\n",
       " Document(metadata={'source': 'https://www.benzinga.com/news/22/04/26466681/nio-said-to-be-in-discussions-with-rivals-to-license-its-flagship-ev-battery-swap-tech'}, page_content='Nio Inc NIO is in talks with several automakers for licensing its battery-swapping technology, Financial Times reported on Tuesday, citing the electric vehicle maker’s European president Hui Zhang.\\n\\nWhat Happened: Shanghai-based Nio is in talks with Chinese and international car groups to open its network of charging stations.\\n\\nNio estimates the number of power swap stations would increase to 5,000 by the middle of the decade, from over 800 now.\\n\\nThe maker of ES8 SUVs aims to have 1,000 swapping stations outside China by 2025.\\n\\nThe company last month told analysts it plans to further expand into Europe and enter new markets, including Germany, Netherlands, Sweden, and Denmark this year.\\n\\nWhy It Matters: Nio, which competes with Xpeng Inc XPEV, BYD Co BYDDY as well as global EV leader Tesla Inc TSLA and Volkswagen Group VWAGY, is among early adopters of the battery-swapping service and has been aggressively scaling up the offering.'),\n",
       " Document(metadata={'source': 'https://www.benzinga.com/news/22/04/26466681/nio-said-to-be-in-discussions-with-rivals-to-license-its-flagship-ev-battery-swap-tech'}, page_content='Battery swapping is still a niche EV energy solution compared with charging and is mostly used for fleet vehicles.\\n\\nTesla on the other hand has been scaling up its supercharging network. The EV maker has over 30,000 superchargers globally, of which over 8,000 are in China.\\n\\nPrice Action: Nio stock closed 8.7% higher at $23.8 a share on Monday.\\n\\nPhoto courtesy: Nio\\n\\nNIONIO Inc\\n\\n$4.26-7.99%\\n\\nOverview\\n\\nBYDDYBYD Co Ltd\\n\\n$89.00-7.11%\\n\\nLILi Auto Inc\\n\\n$27.17-11.6%\\n\\nXPEVXPeng Inc\\n\\n$19.98-7.03%\\n\\nMarket News and Data brought to you by Benzinga APIs\\n\\n© 2025 Benzinga.com. Benzinga does not provide investment advice. All rights reserved.\\n\\nPosted In:\\n\\nNewsTechMediaBattery swappingelectric vehiclesES8EVsHui Zhang\\n\\nBenzinga simplifies the market for smarter investing\\n\\nTrade confidently with insights and alerts from analyst ratings, free reports and breaking news that affects the stocks you care about.\\n\\nJoin Now: Free!\\n\\nAlready a member?Sign in\\n\\nPopular Channels\\n\\nPreMarket Playbook\\n\\nPress Releases'),\n",
       " Document(metadata={'source': 'https://www.benzinga.com/news/22/04/26466681/nio-said-to-be-in-discussions-with-rivals-to-license-its-flagship-ev-battery-swap-tech'}, page_content='Join Now: Free!\\n\\nAlready a member?Sign in\\n\\nPopular Channels\\n\\nPreMarket Playbook\\n\\nPress Releases\\n\\nAnalyst Ratings\\n\\nNews\\n\\nOptions\\n\\nETFs\\n\\nTools & Features\\n\\nReal Time Feed\\n\\nPublic RSS Feeds\\n\\nSubmit News Tips\\n\\nBlog\\n\\nEmbeddable Finance Widgets & Tools\\n\\nBenzinga Catalyst\\n\\nPartners & Contributors\\n\\nAffiliate Program\\n\\nContributor Portal\\n\\nLicensing & Syndication\\n\\nSponsored Content\\n\\nAdvertise With Us\\n\\nLead Generation & SEO\\n\\nAbout Benzinga\\n\\nAbout Us\\n\\nCareers\\n\\nIn The News\\n\\nEvents\\n\\nContact Us\\n\\nTerms & Conditions\\n\\nDo Not Sell My Personal Data/Privacy Policy\\n\\nDisclaimer\\n\\nService Status\\n\\nSitemap\\n\\n© 2025 Benzinga | All Rights Reserved'),\n",
       " Document(metadata={'source': 'https://www.barrons.com/articles/elon-musk-sells-tesla-stock-51671073393'}, page_content=\"Stock PicksLists & RankingsMagazineDataAdvisor\\n\\nUser settings temporarily unavailable\\n\\n404\\n\\nThat content doesn't seem to exist... have you tried going to the home page, or exploring an interest?\\n\\nMeanwhile, here are some important items you'll want to know:\\n\\nTrump’s Trade War Begins. Canada and China Retaliate, and Mexico Is Next.\\n\\nRockwell Automation and 4 More Industrial Stocks That May Benefit From Tariffs\\n\\nDollar Drops on Trump Tariffs. Why Its Haven Status May Be Fading.\"),\n",
       " Document(metadata={'source': 'https://www.barrons.com/articles/tesla-brand-twitter-elon-musk-51670857158'}, page_content=\"Stock PicksLists & RankingsMagazineDataAdvisor\\n\\nUser settings temporarily unavailable\\n\\n404\\n\\nThat content doesn't seem to exist... have you tried going to the home page, or exploring an interest?\\n\\nMeanwhile, here are some important items you'll want to know:\\n\\nTrump’s Trade War Begins. Canada and China Retaliate, and Mexico Is Next.\\n\\nRockwell Automation and 4 More Industrial Stocks That May Benefit From Tariffs\\n\\nDollar Drops on Trump Tariffs. Why Its Haven Status May Be Fading.\"),\n",
       " Document(metadata={'source': 'https://www.benzinga.com/markets/commodities/22/02/25635956/this-coal-stock-has-a-better-1-year-return-than-nvidia-ford-starbucks-tesla-bitcoin-apple'}, page_content='España\\n\\nIndia\\n\\nItalia\\n\\n대한민국\\n\\n日本\\n\\nBenzinga Edge\\n\\nBenzinga Research\\n\\nBenzinga Pro\\n\\nGet Benzinga Pro\\n\\nData & APIs\\n\\nEvents\\n\\nPremarket\\n\\nAdvertise\\n\\nContribute\\n\\nEspaña\\n\\nIndia\\n\\nItalia\\n\\n대한민국\\n\\n日本\\n\\nOur Services\\n\\nNews\\n\\nEarnings\\n\\nGuidance\\n\\nDividends\\n\\nM&A\\n\\nBuybacks\\n\\nLegal\\n\\nInterviews\\n\\nManagement\\n\\nOfferings\\n\\nIPOs\\n\\nInsider Trades\\n\\nBiotech/FDA\\n\\nPolitics\\n\\nHealthcare\\n\\nMarkets\\n\\nPre-Market\\n\\nAfter Hours\\n\\nMovers\\n\\nETFs\\n\\nForex\\n\\nCannabis\\n\\nCommodities\\n\\nBinary Options\\n\\nBonds\\n\\nFutures\\n\\nCME Group\\n\\nGlobal Economics\\n\\nMining\\n\\nPreviews\\n\\nSmall-Cap\\n\\nReal Estate\\n\\nPenny Stocks\\n\\nDigital Securities\\n\\nVolatility\\n\\nOptions\\n\\nRatings\\n\\nAnalyst Color\\n\\nDowngrades\\n\\nUpgrades\\n\\nInitiations\\n\\nPrice Target\\n\\nIdeas\\n\\nTrade Ideas\\n\\nLong Ideas\\n\\nShort Ideas\\n\\nTechnicals\\n\\nFrom The Press\\n\\nJim Cramer\\n\\nRumors\\n\\nWhisper Index\\n\\nStock of the Day\\n\\nBest Stocks & ETFs\\n\\nBest Penny Stocks\\n\\nBest S&P 500 ETFs\\n\\nBest Swing Trade Stocks\\n\\nBest Blue Chip Stocks\\n\\nBest High-Volume Penny Stocks\\n\\nBest Small Cap ETFs\\n\\nBest Stocks to Day Trade\\n\\nBest REITs\\n\\nMoney\\n\\nInvesting'),\n",
       " Document(metadata={'source': 'https://www.benzinga.com/markets/commodities/22/02/25635956/this-coal-stock-has-a-better-1-year-return-than-nvidia-ford-starbucks-tesla-bitcoin-apple'}, page_content='Best Penny Stocks\\n\\nBest S&P 500 ETFs\\n\\nBest Swing Trade Stocks\\n\\nBest Blue Chip Stocks\\n\\nBest High-Volume Penny Stocks\\n\\nBest Small Cap ETFs\\n\\nBest Stocks to Day Trade\\n\\nBest REITs\\n\\nMoney\\n\\nInvesting\\n\\nCryptocurrency\\n\\nMortgage\\n\\nInsurance\\n\\nYield\\n\\nPersonal Finance\\n\\nForex\\n\\nStartup Investing\\n\\nReal Estate Investing\\n\\nProp Trading\\n\\nCredit Cards\\n\\nStock Brokers\\n\\nCrypto\\n\\nResearch\\n\\nMy Stocks\\n\\nTools\\n\\nFree Benzinga Pro Trial\\n\\nCalendars\\n\\nAnalyst Ratings Calendar\\n\\nConference Call Calendar\\n\\nDividend Calendar\\n\\nEarnings Calendar\\n\\nEconomic Calendar\\n\\nFDA Calendar\\n\\nGuidance Calendar\\n\\nIPO Calendar\\n\\nM&A Calendar\\n\\nSPAC Calendar\\n\\nStock Split Calendar\\n\\nTrade Ideas\\n\\nFree Stock Reports\\n\\nInsider Trades\\n\\nTrade Idea Feed\\n\\nAnalyst Ratings\\n\\nUnusual Options Activity\\n\\nHeatmaps\\n\\nFree Newsletter\\n\\nGovernment Trades\\n\\nPerfect Stock Portfolio\\n\\nEasy Income Portfolio\\n\\nShort Interest\\n\\nMost Shorted\\n\\nLargest Increase\\n\\nLargest Decrease\\n\\nCalculators\\n\\nMargin Calculator\\n\\nForex Profit Calculator\\n\\n100x Options Profit Calculator'),\n",
       " Document(metadata={'source': 'https://www.benzinga.com/markets/commodities/22/02/25635956/this-coal-stock-has-a-better-1-year-return-than-nvidia-ford-starbucks-tesla-bitcoin-apple'}, page_content='Easy Income Portfolio\\n\\nShort Interest\\n\\nMost Shorted\\n\\nLargest Increase\\n\\nLargest Decrease\\n\\nCalculators\\n\\nMargin Calculator\\n\\nForex Profit Calculator\\n\\n100x Options Profit Calculator\\n\\nJune 17, 2022 9:51 AM 1 min read\\n\\nThis Coal Stock Has A Better 1-Year Return Than Nvidia, Ford, Apple, Microsoft, Starbucks, Tesla, Bitcoin And Ethereum\\n\\nby Henry Khederian Benzinga Editor\\n\\nFollow\\n\\nBTUPeabody Energy Corp\\n\\n$12.76-2.63%\\n\\nStock Score Locked: Want to See it?\\n\\nBenzinga Rankings give you vital metrics on any stock – anytime.\\n\\nReveal Full Score\\n\\nEdge Rankings\\n\\nMomentum9.88\\n\\nGrowth32.14\\n\\nQuality-\\n\\nValue98.37\\n\\nPrice Trend\\n\\nShort\\n\\nMedium\\n\\nLong\\n\\nOverview\\n\\n$BTCBitcoin\\n\\n$85626.40-0.62%\\n\\n$ETHEthereum\\n\\n$2129.76-0.82%\\n\\nAAPLApple Inc\\n\\n$236.55-0.62%\\n\\nFFord Motor Co\\n\\n$9.18-2.29%\\n\\nMSFTMicrosoft Corp\\n\\n$384.80-0.95%\\n\\nNVDANVIDIA Corp\\n\\n$115.651.39%\\n\\nSBUXStarbucks Corp\\n\\n$112.95-2.13%\\n\\nTSLATesla Inc\\n\\n$271.44-4.64%\\n\\nComments\\n\\nLoading...'),\n",
       " Document(metadata={'source': 'https://www.benzinga.com/markets/commodities/22/02/25635956/this-coal-stock-has-a-better-1-year-return-than-nvidia-ford-starbucks-tesla-bitcoin-apple'}, page_content='$236.55-0.62%\\n\\nFFord Motor Co\\n\\n$9.18-2.29%\\n\\nMSFTMicrosoft Corp\\n\\n$384.80-0.95%\\n\\nNVDANVIDIA Corp\\n\\n$115.651.39%\\n\\nSBUXStarbucks Corp\\n\\n$112.95-2.13%\\n\\nTSLATesla Inc\\n\\n$271.44-4.64%\\n\\nComments\\n\\nLoading...\\n\\nPeabody Energy Corporation BTU is the largest private-sector coal company in the world, and over the past year, one of the largest gainers in American markets.\\n\\nSince June 2021, Peabody Energy stock’s one-year return has outperformed several of the world’s most popular tech, EV and consumer discretionary stocks: NVIDIA Corporation NVDA, Ford Motor Company F, Apple Inc AAPL, Microsoft Corporation MSFT, Starbucks Corporation SBUX, Tesla Inc TSLA, Bitcoin BTC/USD and Ethereum ETH/USD.\\n\\nPeabody Energy is in the coal mining business in the U.S., Japan, Taiwan, Australia, China, among other international locations.'),\n",
       " Document(metadata={'source': 'https://www.benzinga.com/markets/commodities/22/02/25635956/this-coal-stock-has-a-better-1-year-return-than-nvidia-ford-starbucks-tesla-bitcoin-apple'}, page_content=\"Peabody Energy is in the coal mining business in the U.S., Japan, Taiwan, Australia, China, among other international locations.\\n\\nOutside of mining, preparing and selling coal, Peabody Energy also engages in direct and brokered trading of coal and freight-related contracts, as well as provides transportation-related services which involve financial derivative contracts and physical contracts.\\n\\nPeabody Energy was founded in 1883 and is headquartered in St. Louis, Missouri.\\n\\nHere's how the returns break down from June 2021 to present:\\n\\nFord is down from $14.77 to $11.32 for a return of -23.32%\\n\\nNvidia is down from $186.57 to $159.24 for a return of -14.65%\\n\\nStarbucks is down from $111.39 to $71.17 for a return of -36.11%\\n\\nTesla is up from $616.60 to $658.12 for a return of 6.73%\\n\\nBitcoin is down from $38,094.70 to $20,828.10 for a return of -45.33%\\n\\nEthereum is down from $2,373.86 to $1,097.81 for a return of -53.75%\"),\n",
       " Document(metadata={'source': 'https://www.benzinga.com/markets/commodities/22/02/25635956/this-coal-stock-has-a-better-1-year-return-than-nvidia-ford-starbucks-tesla-bitcoin-apple'}, page_content='Tesla is up from $616.60 to $658.12 for a return of 6.73%\\n\\nBitcoin is down from $38,094.70 to $20,828.10 for a return of -45.33%\\n\\nEthereum is down from $2,373.86 to $1,097.81 for a return of -53.75%\\n\\nAnd finally, Peabody Energy is up from $7.70 to $22.18 for a return of 188.05%\\n\\nBTUPeabody Energy Corp\\n\\n$12.76-2.63%\\n\\nOverview\\n\\n$BTCBitcoin\\n\\n$85626.40-0.62%\\n\\n$ETHEthereum\\n\\n$2129.76-0.82%\\n\\nAAPLApple Inc\\n\\n$236.55-0.62%\\n\\nFFord Motor Co\\n\\n$9.18-2.29%\\n\\nMSFTMicrosoft Corp\\n\\n$384.80-0.95%\\n\\nNVDANVIDIA Corp\\n\\n$115.651.39%\\n\\nSBUXStarbucks Corp\\n\\n$112.95-2.13%\\n\\nTSLATesla Inc\\n\\n$271.44-4.64%\\n\\nMarket News and Data brought to you by Benzinga APIs\\n\\n© 2025 Benzinga.com. Benzinga does not provide investment advice. All rights reserved.\\n\\nPosted In:\\n\\nEducationCommoditiesMarketsMoversTrading IdeasGeneral\\n\\nBenzinga simplifies the market for smarter investing\\n\\nTrade confidently with insights and alerts from analyst ratings, free reports and breaking news that affects the stocks you care about.\\n\\nJoin Now: Free!'),\n",
       " Document(metadata={'source': 'https://www.benzinga.com/markets/commodities/22/02/25635956/this-coal-stock-has-a-better-1-year-return-than-nvidia-ford-starbucks-tesla-bitcoin-apple'}, page_content='Trade confidently with insights and alerts from analyst ratings, free reports and breaking news that affects the stocks you care about.\\n\\nJoin Now: Free!\\n\\nAlready a member?Sign in\\n\\nPopular Channels\\n\\nPreMarket Playbook\\n\\nPress Releases\\n\\nAnalyst Ratings\\n\\nNews\\n\\nOptions\\n\\nETFs\\n\\nTools & Features\\n\\nReal Time Feed\\n\\nPublic RSS Feeds\\n\\nSubmit News Tips\\n\\nBlog\\n\\nEmbeddable Finance Widgets & Tools\\n\\nBenzinga Catalyst\\n\\nPartners & Contributors\\n\\nAffiliate Program\\n\\nContributor Portal\\n\\nLicensing & Syndication\\n\\nSponsored Content\\n\\nAdvertise With Us\\n\\nLead Generation & SEO\\n\\nAbout Benzinga\\n\\nAbout Us\\n\\nCareers\\n\\nIn The News\\n\\nEvents\\n\\nContact Us\\n\\nTerms & Conditions\\n\\nDo Not Sell My Personal Data/Privacy Policy\\n\\nDisclaimer\\n\\nService Status\\n\\nSitemap\\n\\n© 2025 Benzinga | All Rights Reserved'),\n",
       " Document(metadata={'source': 'https://www.fool.com/investing/2023/05/26/what-will-tesla-gain-from-the-ford-partnership/'}, page_content=\"▲ S&P 500 +---% | ▲ Stock Advisor +---% Join The Motley Fool\\n\\nAccessibility Log In Help\\n\\nAccessibility Menu\\n\\nFree Article\\n\\nYou're reading a free article with opinions that may differ from The Motley Fool's Premium Investing Services. Become a Motley Fool member today to get instant access to our top analyst recommendations, in-depth research, investing resources, and more. Learn More\\n\\nWhat Will Tesla Gain from the Ford Partnership?\\n\\nBy Neil Rozenbaum – May 26, 2023 at 11:36AM\\n\\nNASDAQ: TSLA\\n\\nTesla\\n\\nMarket Cap\\n\\n$916B\\n\\nToday's Change\\n\\n(-5.19%) -$14.78\\n\\nCurrent Price\\n\\n$269.87\\n\\nPrice as of March 4, 2025, 1:02 p.m. ET\\n\\nThis unexpected partnership shocked the industry.\\n\\nIn this video, I will talk about the recent partnership between Ford and Tesla (TSLA -5.19%), what Tesla will gain from it, and why it might be only the start.\\n\\nStock prices used were from the trading day of May 25, 2023. The video was published on May 26, 2023.\"),\n",
       " Document(metadata={'source': 'https://www.fool.com/investing/2023/05/26/what-will-tesla-gain-from-the-ford-partnership/'}, page_content=\"Stock prices used were from the trading day of May 25, 2023. The video was published on May 26, 2023.\\n\\nNeil Rozenbaum has positions in Tesla. The Motley Fool has positions in and recommends Tesla. The Motley Fool has a disclosure policy. Neil is an affiliate of The Motley Fool and may be compensated for promoting its services. If you choose to subscribe through his link, he will earn some extra money that supports his channel. His opinions remain his own and are unaffected by The Motley Fool.\\n\\nRelated Articles\\n\\nUber CEO Dara Khosrowshahi Just Gave Tesla Investors a Stark Warning\\n\\nTesla Stock: Is This Pullback a Buying Opportunity?\\n\\nCould President Trump's Tariffs Rattle Tesla Stock? Here's What History Suggests.\\n\\nTesla Stock vs. Apple Stock: Billionaires Buy One and Sell the Other\\n\\nBetter Buy in 2025: Tesla Stock or Meta Platforms Stock?\\n\\n863%\\n\\nPremium Investing Services\"),\n",
       " Document(metadata={'source': 'https://www.fool.com/investing/2023/05/26/what-will-tesla-gain-from-the-ford-partnership/'}, page_content=\"Tesla Stock vs. Apple Stock: Billionaires Buy One and Sell the Other\\n\\nBetter Buy in 2025: Tesla Stock or Meta Platforms Stock?\\n\\n863%\\n\\nPremium Investing Services\\n\\nInvest better with The Motley Fool. Get stock recommendations, portfolio guidance, and more from The Motley Fool's premium services.\\n\\nView Premium Services\\n\\nMaking the world smarter, happier, and richer.\\n\\nFacebook\\n\\nTwitter\\n\\nLinked In\\n\\nPinterest\\n\\nYouTube\\n\\nInstagram\\n\\nTiktok\\n\\n© 1995 - 2025 The Motley Fool. All rights reserved.\\n\\nMarket data powered by Xignite and Polygon.io.\\n\\nAbout The Motley Fool\\n\\nAbout Us\\n\\nCareers\\n\\nResearch\\n\\nNewsroom\\n\\nContact\\n\\nAdvertise\\n\\nOur Services\\n\\nAll Services\\n\\nStock Advisor\\n\\nEpic\\n\\nEpic Plus\\n\\nFool Portfolios\\n\\nFool One\\n\\nMotley Fool Money\\n\\nAround the Globe\\n\\nFool UK\\n\\nFool Australia\\n\\nFool Canada\\n\\nFree Tools\\n\\nCAPS Stock Ratings\\n\\nDiscussion Boards\\n\\nCalculators\\n\\nFinancial Dictionary\\n\\nAffiliates & Friends\\n\\nMotley Fool Asset Management\\n\\nMotley Fool Wealth Management\\n\\nMotley Fool Ventures\\n\\nMotley Fool Foundation\"),\n",
       " Document(metadata={'source': 'https://www.fool.com/investing/2023/05/26/what-will-tesla-gain-from-the-ford-partnership/'}, page_content='Discussion Boards\\n\\nCalculators\\n\\nFinancial Dictionary\\n\\nAffiliates & Friends\\n\\nMotley Fool Asset Management\\n\\nMotley Fool Wealth Management\\n\\nMotley Fool Ventures\\n\\nMotley Fool Foundation\\n\\nBecome an Affiliate Partner\\n\\nTerms of Use\\n\\nPrivacy Policy\\n\\nDisclosure Policy\\n\\nAccessibility Policy\\n\\nCopyright, Trademark and Patent Information\\n\\nTerms and Conditions\\n\\nDo Not Sell My Personal Information\\n\\nCurrent')]"
      ]
     },
     "execution_count": 38,
     "metadata": {},
     "output_type": "execute_result"
    }
   ],
   "source": [
    "docs"
   ]
  },
  {
   "cell_type": "code",
   "execution_count": 44,
   "metadata": {},
   "outputs": [],
   "source": [
    "texts = [doc.page_content for doc in docs]"
   ]
  },
  {
   "cell_type": "code",
   "execution_count": 46,
   "metadata": {},
   "outputs": [
    {
     "data": {
      "text/plain": [
       "19"
      ]
     },
     "execution_count": 46,
     "metadata": {},
     "output_type": "execute_result"
    }
   ],
   "source": [
    "len(texts)"
   ]
  },
  {
   "cell_type": "markdown",
   "metadata": {},
   "source": [
    "### FAISS Database"
   ]
  },
  {
   "cell_type": "code",
   "execution_count": 29,
   "metadata": {},
   "outputs": [
    {
     "name": "stdout",
     "output_type": "stream",
     "text": [
      "Requirement already satisfied: faiss-cpu in /Users/vincy/anaconda3/lib/python3.11/site-packages (1.10.0)\n",
      "Requirement already satisfied: numpy<3.0,>=1.25.0 in /Users/vincy/anaconda3/lib/python3.11/site-packages (from faiss-cpu) (1.26.4)\n",
      "Requirement already satisfied: packaging in /Users/vincy/anaconda3/lib/python3.11/site-packages (from faiss-cpu) (24.1)\n",
      "Note: you may need to restart the kernel to use updated packages.\n"
     ]
    }
   ],
   "source": [
    "%pip install faiss-cpu"
   ]
  },
  {
   "cell_type": "code",
   "execution_count": 30,
   "metadata": {},
   "outputs": [
    {
     "name": "stdout",
     "output_type": "stream",
     "text": [
      "Requirement already satisfied: sentence-transformers in /Users/vincy/anaconda3/lib/python3.11/site-packages (3.4.1)\n",
      "Requirement already satisfied: transformers<5.0.0,>=4.41.0 in /Users/vincy/anaconda3/lib/python3.11/site-packages (from sentence-transformers) (4.49.0)\n",
      "Requirement already satisfied: tqdm in /Users/vincy/anaconda3/lib/python3.11/site-packages (from sentence-transformers) (4.65.0)\n",
      "Requirement already satisfied: torch>=1.11.0 in /Users/vincy/anaconda3/lib/python3.11/site-packages (from sentence-transformers) (2.2.1)\n",
      "Requirement already satisfied: scikit-learn in /Users/vincy/anaconda3/lib/python3.11/site-packages (from sentence-transformers) (1.3.0)\n",
      "Requirement already satisfied: scipy in /Users/vincy/anaconda3/lib/python3.11/site-packages (from sentence-transformers) (1.11.1)\n",
      "Requirement already satisfied: huggingface-hub>=0.20.0 in /Users/vincy/anaconda3/lib/python3.11/site-packages (from sentence-transformers) (0.29.1)\n",
      "Requirement already satisfied: Pillow in /Users/vincy/anaconda3/lib/python3.11/site-packages (from sentence-transformers) (10.2.0)\n",
      "Requirement already satisfied: filelock in /Users/vincy/anaconda3/lib/python3.11/site-packages (from huggingface-hub>=0.20.0->sentence-transformers) (3.9.0)\n",
      "Requirement already satisfied: fsspec>=2023.5.0 in /Users/vincy/anaconda3/lib/python3.11/site-packages (from huggingface-hub>=0.20.0->sentence-transformers) (2024.9.0)\n",
      "Requirement already satisfied: packaging>=20.9 in /Users/vincy/anaconda3/lib/python3.11/site-packages (from huggingface-hub>=0.20.0->sentence-transformers) (24.1)\n",
      "Requirement already satisfied: pyyaml>=5.1 in /Users/vincy/anaconda3/lib/python3.11/site-packages (from huggingface-hub>=0.20.0->sentence-transformers) (6.0)\n",
      "Requirement already satisfied: requests in /Users/vincy/anaconda3/lib/python3.11/site-packages (from huggingface-hub>=0.20.0->sentence-transformers) (2.31.0)\n",
      "Requirement already satisfied: typing-extensions>=3.7.4.3 in /Users/vincy/anaconda3/lib/python3.11/site-packages (from huggingface-hub>=0.20.0->sentence-transformers) (4.12.2)\n",
      "Requirement already satisfied: sympy in /Users/vincy/anaconda3/lib/python3.11/site-packages (from torch>=1.11.0->sentence-transformers) (1.11.1)\n",
      "Requirement already satisfied: networkx in /Users/vincy/anaconda3/lib/python3.11/site-packages (from torch>=1.11.0->sentence-transformers) (3.1)\n",
      "Requirement already satisfied: jinja2 in /Users/vincy/anaconda3/lib/python3.11/site-packages (from torch>=1.11.0->sentence-transformers) (3.1.2)\n",
      "Requirement already satisfied: numpy>=1.17 in /Users/vincy/anaconda3/lib/python3.11/site-packages (from transformers<5.0.0,>=4.41.0->sentence-transformers) (1.26.4)\n",
      "Requirement already satisfied: regex!=2019.12.17 in /Users/vincy/anaconda3/lib/python3.11/site-packages (from transformers<5.0.0,>=4.41.0->sentence-transformers) (2022.7.9)\n",
      "Requirement already satisfied: tokenizers<0.22,>=0.21 in /Users/vincy/anaconda3/lib/python3.11/site-packages (from transformers<5.0.0,>=4.41.0->sentence-transformers) (0.21.0)\n",
      "Requirement already satisfied: safetensors>=0.4.1 in /Users/vincy/anaconda3/lib/python3.11/site-packages (from transformers<5.0.0,>=4.41.0->sentence-transformers) (0.5.3)\n",
      "Requirement already satisfied: joblib>=1.1.1 in /Users/vincy/anaconda3/lib/python3.11/site-packages (from scikit-learn->sentence-transformers) (1.2.0)\n",
      "Requirement already satisfied: threadpoolctl>=2.0.0 in /Users/vincy/anaconda3/lib/python3.11/site-packages (from scikit-learn->sentence-transformers) (2.2.0)\n",
      "Requirement already satisfied: MarkupSafe>=2.0 in /Users/vincy/anaconda3/lib/python3.11/site-packages (from jinja2->torch>=1.11.0->sentence-transformers) (2.1.1)\n",
      "Requirement already satisfied: charset-normalizer<4,>=2 in /Users/vincy/anaconda3/lib/python3.11/site-packages (from requests->huggingface-hub>=0.20.0->sentence-transformers) (2.0.4)\n",
      "Requirement already satisfied: idna<4,>=2.5 in /Users/vincy/anaconda3/lib/python3.11/site-packages (from requests->huggingface-hub>=0.20.0->sentence-transformers) (3.4)\n",
      "Requirement already satisfied: urllib3<3,>=1.21.1 in /Users/vincy/anaconda3/lib/python3.11/site-packages (from requests->huggingface-hub>=0.20.0->sentence-transformers) (2.2.3)\n",
      "Requirement already satisfied: certifi>=2017.4.17 in /Users/vincy/anaconda3/lib/python3.11/site-packages (from requests->huggingface-hub>=0.20.0->sentence-transformers) (2024.2.2)\n",
      "Requirement already satisfied: mpmath>=0.19 in /Users/vincy/anaconda3/lib/python3.11/site-packages (from sympy->torch>=1.11.0->sentence-transformers) (1.3.0)\n"
     ]
    }
   ],
   "source": [
    "!pip install sentence-transformers"
   ]
  },
  {
   "cell_type": "code",
   "execution_count": 40,
   "metadata": {},
   "outputs": [],
   "source": [
    "from sentence_transformers import SentenceTransformer\n",
    "\n",
    "# Use a high-quality model\n",
    "encoder = SentenceTransformer(\"BAAI/bge-base-en\")  # Or \"mxbai-embed-large\""
   ]
  },
  {
   "cell_type": "code",
   "execution_count": 47,
   "metadata": {},
   "outputs": [],
   "source": [
    "vectors = encoder.encode(texts)"
   ]
  },
  {
   "cell_type": "code",
   "execution_count": 48,
   "metadata": {},
   "outputs": [
    {
     "data": {
      "text/plain": [
       "(19, 768)"
      ]
     },
     "execution_count": 48,
     "metadata": {},
     "output_type": "execute_result"
    }
   ],
   "source": [
    "vectors.shape"
   ]
  },
  {
   "cell_type": "code",
   "execution_count": 50,
   "metadata": {},
   "outputs": [],
   "source": [
    "dim = vectors.shape[1]"
   ]
  },
  {
   "cell_type": "code",
   "execution_count": 49,
   "metadata": {},
   "outputs": [],
   "source": [
    "import faiss"
   ]
  },
  {
   "cell_type": "code",
   "execution_count": 51,
   "metadata": {},
   "outputs": [],
   "source": [
    "faiss.normalize_L2(vectors)"
   ]
  },
  {
   "cell_type": "code",
   "execution_count": 52,
   "metadata": {},
   "outputs": [],
   "source": [
    "index = faiss.IndexFlatL2(dim)"
   ]
  },
  {
   "cell_type": "code",
   "execution_count": 53,
   "metadata": {},
   "outputs": [],
   "source": [
    "index.add(vectors)"
   ]
  },
  {
   "cell_type": "code",
   "execution_count": 54,
   "metadata": {},
   "outputs": [
    {
     "data": {
      "text/plain": [
       "<faiss.swigfaiss.IndexFlatL2; proxy of <Swig Object of type 'faiss::IndexFlatL2 *' at 0x2cb969a10> >"
      ]
     },
     "execution_count": 54,
     "metadata": {},
     "output_type": "execute_result"
    }
   ],
   "source": [
    "index"
   ]
  },
  {
   "cell_type": "code",
   "execution_count": null,
   "metadata": {},
   "outputs": [],
   "source": [
    "def buildIndex(text):\n",
    "    \"\"\"\n",
    "    Build a FAISS index from a list of text documents.\n",
    "    Each document is encoded into a vector using SentenceTransformer.\n",
    "    The vectors are then normalized and added to the FAISS index.\n",
    "    Args:\n",
    "        text (list): List of text documents to be indexed.\n",
    "    Returns:\n",
    "        index (faiss.Index): A FAISS index containing the normalized vectors.\n",
    "    \"\"\"\n",
    "    \n",
    "    encoder = SentenceTransformer(\"BAAI/bge-base-en\")\n",
    "    vectors = encoder.encode(text)\n",
    "    faiss.normalize_L2(vectors)\n",
    "    \n",
    "    dim = vectors.shape[1]\n",
    "    index = faiss.IndexFlatL2(dim)\n",
    "    index.add(vectors)\n",
    "\n",
    "    return index\n",
    "    \n",
    "    "
   ]
  },
  {
   "cell_type": "code",
   "execution_count": 56,
   "metadata": {},
   "outputs": [],
   "source": [
    "database = buildIndex(texts)"
   ]
  },
  {
   "cell_type": "code",
   "execution_count": 57,
   "metadata": {},
   "outputs": [
    {
     "data": {
      "text/plain": [
       "<faiss.swigfaiss.IndexFlatL2; proxy of <Swig Object of type 'faiss::IndexFlatL2 *' at 0x15fc173f0> >"
      ]
     },
     "execution_count": 57,
     "metadata": {},
     "output_type": "execute_result"
    }
   ],
   "source": [
    "database"
   ]
  },
  {
   "cell_type": "code",
   "execution_count": null,
   "metadata": {},
   "outputs": [],
   "source": []
  }
 ],
 "metadata": {
  "kernelspec": {
   "display_name": "base",
   "language": "python",
   "name": "python3"
  },
  "language_info": {
   "codemirror_mode": {
    "name": "ipython",
    "version": 3
   },
   "file_extension": ".py",
   "mimetype": "text/x-python",
   "name": "python",
   "nbconvert_exporter": "python",
   "pygments_lexer": "ipython3",
   "version": "3.11.8"
  }
 },
 "nbformat": 4,
 "nbformat_minor": 2
}
