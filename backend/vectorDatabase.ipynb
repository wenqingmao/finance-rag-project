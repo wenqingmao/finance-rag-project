{
 "cells": [
  {
   "cell_type": "code",
   "execution_count": null,
   "metadata": {},
   "outputs": [],
   "source": [
    "import requests\n",
    "from datetime import datetime, timedelta\n",
    "import pandas as pd\n",
    "import numpy as np\n",
    "import pickle\n",
    "import os\n",
    "from dotenv import load_dotenv"
   ]
  },
  {
   "cell_type": "markdown",
   "metadata": {},
   "source": [
    "### FEtch Data from API"
   ]
  },
  {
   "cell_type": "code",
   "execution_count": 5,
   "metadata": {},
   "outputs": [],
   "source": [
    "def get_alpha_vantage_news(api_key, ticker, topic=None):\n",
    "    \"\"\"\n",
    "    Fetches news articles about `ticker` from the Alpha Vantage News API.\n",
    "    Optionally filters by `topic` (e.g., \"technology\", \"finance\", etc.).\n",
    "    Returns a list of dicts with article info (title, summary, sentiment, etc.).\n",
    "    \"\"\"\n",
    "\n",
    "    # Alpha Vantage 'NEWS_SENTIMENT' endpoint\n",
    "    url = \"https://www.alphavantage.co/query\"\n",
    "\n",
    "    # Base params\n",
    "    params = {\n",
    "        \"function\": \"NEWS_SENTIMENT\",\n",
    "        \"tickers\": ticker,\n",
    "        \"apikey\": api_key,\n",
    "        \"sort\": \"RELEVANCE\"\n",
    "    }\n",
    "\n",
    "    # If a topic was provided, include it in the params\n",
    "    # NOTE: The Alpha Vantage parameter for filtering by topic is \"topics\".\n",
    "    # E.g., topics=technology,ipo\n",
    "    if topic:\n",
    "        params[\"topics\"] = topic\n",
    "\n",
    "    response = requests.get(url, params=params)\n",
    "    print(\"Request URL:\", response.url)  # Debugging: see the final request\n",
    "    data = response.json()\n",
    "\n",
    "    # Check for errors\n",
    "    if \"feed\" not in data:\n",
    "        print(f\"Error fetching news from Alpha Vantage: {data}\")\n",
    "        return []\n",
    "\n",
    "    articles = data[\"feed\"]\n",
    "    return articles"
   ]
  },
  {
   "cell_type": "code",
   "execution_count": 6,
   "metadata": {},
   "outputs": [],
   "source": [
    "def get_company_overview(api_key, ticker):\n",
    "    \"\"\"\n",
    "    Fetches the company overview from Alpha Vantage using function=OVERVIEW.\n",
    "    Returns a Pandas DataFrame.\n",
    "    \"\"\"\n",
    "    url = \"https://www.alphavantage.co/query\"\n",
    "    params = {\n",
    "        \"function\": \"OVERVIEW\",\n",
    "        \"symbol\": ticker,\n",
    "        \"apikey\": api_key\n",
    "    }\n",
    "\n",
    "    response = requests.get(url, params=params)\n",
    "    data = response.json()\n",
    "\n",
    "    if \"Symbol\" not in data:\n",
    "        print(f\"Error fetching company overview: {data}\")\n",
    "        return None\n",
    "\n",
    "    # Convert JSON dictionary to a Pandas DataFrame\n",
    "    overview_df = pd.DataFrame.from_dict(data, orient='index', columns=['Value'])\n",
    "    overview_df.reset_index(inplace=True)\n",
    "    overview_df.columns = ['Field', 'Value']\n",
    "\n",
    "    return overview_df"
   ]
  },
  {
   "cell_type": "code",
   "execution_count": 7,
   "metadata": {},
   "outputs": [],
   "source": [
    "load_dotenv()\n",
    "ALPHA_VANTAGE_API_KEY = os.getenv(\"ALPHA_VANTAGE_API_KEY\")"
   ]
  },
  {
   "cell_type": "code",
   "execution_count": 8,
   "metadata": {},
   "outputs": [
    {
     "name": "stdout",
     "output_type": "stream",
     "text": [
      "Request URL: https://www.alphavantage.co/query?function=NEWS_SENTIMENT&tickers=TSLA&apikey=4RZANL9BTFIUH6KF&sort=RELEVANCE\n"
     ]
    }
   ],
   "source": [
    "articles = get_alpha_vantage_news(ALPHA_VANTAGE_API_KEY, \"TSLA\")"
   ]
  },
  {
   "cell_type": "code",
   "execution_count": 14,
   "metadata": {},
   "outputs": [],
   "source": [
    "overview_data = get_company_overview(ALPHA_VANTAGE_API_KEY, \"TSLA\")"
   ]
  },
  {
   "cell_type": "markdown",
   "metadata": {},
   "source": [
    "### Unstructured Loader"
   ]
  },
  {
   "cell_type": "code",
   "execution_count": 9,
   "metadata": {},
   "outputs": [],
   "source": [
    "from langchain.document_loaders import UnstructuredURLLoader"
   ]
  },
  {
   "cell_type": "code",
   "execution_count": 10,
   "metadata": {},
   "outputs": [],
   "source": [
    "def parse_article(articles):\n",
    "    \"\"\"\n",
    "    Parses the article and returns the article text.\n",
    "    \"\"\"\n",
    "\n",
    "    urls = []\n",
    "    for i in range(len(articles)):\n",
    "        urls.append(articles[i]['url'])\n",
    "\n",
    "    loader = UnstructuredURLLoader(urls=urls)\n",
    "    parsed_docs = loader.load()\n",
    "\n",
    "    return parsed_docs"
   ]
  },
  {
   "cell_type": "code",
   "execution_count": 11,
   "metadata": {},
   "outputs": [],
   "source": [
    "docs = parse_article(articles)"
   ]
  },
  {
   "cell_type": "markdown",
   "metadata": {},
   "source": [
    "#### RecursiveTextSplitter"
   ]
  },
  {
   "cell_type": "code",
   "execution_count": 14,
   "metadata": {},
   "outputs": [],
   "source": [
    "from langchain.text_splitter import RecursiveCharacterTextSplitter"
   ]
  },
  {
   "cell_type": "code",
   "execution_count": 15,
   "metadata": {},
   "outputs": [],
   "source": [
    "def split_text(docs):\n",
    "    \"\"\"\n",
    "    Splits the text into smaller chunks.\n",
    "    \"\"\"\n",
    "\n",
    "    text_splitter = RecursiveCharacterTextSplitter(\n",
    "    separators=['\\n\\n', '\\n', '.', ','],\n",
    "    chunk_size=1000\n",
    "    )\n",
    "\n",
    "    chunks = text_splitter.split_documents(docs)\n",
    "    texts = [chunk.page_content for chunk in chunks]\n",
    "\n",
    "    return texts"
   ]
  },
  {
   "cell_type": "code",
   "execution_count": 16,
   "metadata": {},
   "outputs": [],
   "source": [
    "chunks = split_text(docs)"
   ]
  },
  {
   "cell_type": "code",
   "execution_count": 17,
   "metadata": {},
   "outputs": [
    {
     "data": {
      "text/plain": [
       "188"
      ]
     },
     "execution_count": 17,
     "metadata": {},
     "output_type": "execute_result"
    }
   ],
   "source": [
    "len(chunks)"
   ]
  },
  {
   "cell_type": "markdown",
   "metadata": {},
   "source": [
    "### FAISS Database"
   ]
  },
  {
   "cell_type": "code",
   "execution_count": 19,
   "metadata": {},
   "outputs": [],
   "source": [
    "from sentence_transformers import SentenceTransformer\n",
    "import faiss"
   ]
  },
  {
   "cell_type": "code",
   "execution_count": null,
   "metadata": {},
   "outputs": [],
   "source": [
    "def buildIndex(texts):\n",
    "    \"\"\"\n",
    "    Build a FAISS index from a list of text documents.\n",
    "    Each document is encoded into a vector using SentenceTransformer.\n",
    "    The vectors are then normalized and added to the FAISS index.\n",
    "    Args:\n",
    "        text (list): List of text documents to be indexed.\n",
    "    Returns:\n",
    "        index (faiss.Index): A FAISS index containing the normalized vectors.\n",
    "    \"\"\"\n",
    "    \n",
    "    encoder = SentenceTransformer(\"BAAI/bge-base-en\")\n",
    "    vectors = encoder.encode(texts)\n",
    "    faiss.normalize_L2(vectors)\n",
    "    \n",
    "    dim = vectors.shape[1]\n",
    "    index = faiss.IndexFlatL2(dim)\n",
    "    index.add(vectors)\n",
    "\n",
    "    return index\n"
   ]
  },
  {
   "cell_type": "code",
   "execution_count": 21,
   "metadata": {},
   "outputs": [],
   "source": [
    "index = buildIndex(chunks)"
   ]
  },
  {
   "cell_type": "code",
   "execution_count": 22,
   "metadata": {},
   "outputs": [
    {
     "data": {
      "text/plain": [
       "<faiss.swigfaiss.IndexFlatL2; proxy of <Swig Object of type 'faiss::IndexFlatL2 *' at 0x29e41b810> >"
      ]
     },
     "execution_count": 22,
     "metadata": {},
     "output_type": "execute_result"
    }
   ],
   "source": [
    "index"
   ]
  },
  {
   "cell_type": "markdown",
   "metadata": {},
   "source": [
    "### Retrieval"
   ]
  },
  {
   "cell_type": "code",
   "execution_count": 67,
   "metadata": {},
   "outputs": [],
   "source": [
    "def retrieval_faiss(query, index, k=10):\n",
    "    \"\"\"\n",
    "    Perform a nearest neighbor search using a FAISS index.\n",
    "    Args:\n",
    "        query (str): The user query text.\n",
    "        index: The FAISS index.\n",
    "        k (int): Number of nearest neighbors to return.\n",
    "    Returns:\n",
    "        indi (list): List of tuples (index, score) for the k nearest neighbors.\n",
    "    \"\"\"\n",
    "    \n",
    "    encoder = SentenceTransformer(\"BAAI/bge-base-en\")\n",
    "    vec = encoder.encode(search_query)\n",
    "\n",
    "    ##covert to same dim as source DB\n",
    "    svec = np.array(vec).reshape(1,-1) \n",
    "\n",
    "    faiss.normalize_L2(svec)\n",
    "    distances, indices = index.search(svec, k)\n",
    "    \n",
    "    return indices"
   ]
  },
  {
   "cell_type": "code",
   "execution_count": 64,
   "metadata": {},
   "outputs": [],
   "source": [
    "search_query = \"What's Tesla's latest model and price?\""
   ]
  },
  {
   "cell_type": "code",
   "execution_count": 68,
   "metadata": {},
   "outputs": [
    {
     "data": {
      "text/plain": [
       "array([[66, 47, 31, 16, 32, 35, 20, 25, 58, 39]])"
      ]
     },
     "execution_count": 68,
     "metadata": {},
     "output_type": "execute_result"
    }
   ],
   "source": [
    "retrieval_faiss(search_query, index, k=10)"
   ]
  },
  {
   "cell_type": "code",
   "execution_count": 42,
   "metadata": {},
   "outputs": [
    {
     "name": "stdout",
     "output_type": "stream",
     "text": [
      "***********This is chunk: 66 ▲ S&P 500 +---% | ▲ Stock Advisor +---% Join The Motley Fool\n",
      "\n",
      "Accessibility Log In Help\n",
      "\n",
      "Accessibility Menu\n",
      "\n",
      "Free Article\n",
      "\n",
      "You're reading a free article with opinions that may differ from The Motley Fool's Premium Investing Services. Become a Motley Fool member today to get instant access to our top analyst recommendations, in-depth research, investing resources, and more. Learn More\n",
      "\n",
      "What's Going on With Tesla Stock?\n",
      "\n",
      "By Parkev Tatevosian, CFA – Oct 29, 2024 at 5:05AM\n",
      "\n",
      "NASDAQ: TSLA\n",
      "\n",
      "Tesla\n",
      "\n",
      "Market Cap\n",
      "\n",
      "$898B\n",
      "\n",
      "Today's Change\n",
      "\n",
      "(-6.23%) -$17.39\n",
      "\n",
      "Current Price\n",
      "\n",
      "$261.71\n",
      "\n",
      "Price as of March 6, 2025, 2:04 p.m. ET\n",
      "\n",
      "A fantastic quarter has Tesla stock investors excited about the future.\n",
      "\n",
      "Tesla (TSLA -6.23%) reported fantastic quarterly financial results, and the stock price is soaring in response.\n",
      "\n",
      "Stock prices used were the afternoon prices of Oct. 24, 2024. The video was published on Oct. 26, 2024.\n",
      "***********This is chunk: 47 ▲ S&P 500 +---% | ▲ Stock Advisor +---% Join The Motley Fool\n",
      "\n",
      "Accessibility Log In Help\n",
      "\n",
      "Accessibility Menu\n",
      "\n",
      "Free Article\n",
      "\n",
      "You're reading a free article with opinions that may differ from The Motley Fool's Premium Investing Services. Become a Motley Fool member today to get instant access to our top analyst recommendations, in-depth research, investing resources, and more. Learn More\n",
      "\n",
      "3 Things About Tesla Stock That Smart Investors Know\n",
      "\n",
      "By Parkev Tatevosian, CFA – Dec 22, 2022 at 8:00AM\n",
      "\n",
      "NASDAQ: TSLA\n",
      "\n",
      "Tesla\n",
      "\n",
      "Market Cap\n",
      "\n",
      "$898B\n",
      "\n",
      "Today's Change\n",
      "\n",
      "(-6.23%) -$17.39\n",
      "\n",
      "Current Price\n",
      "\n",
      "$261.71\n",
      "\n",
      "Price as of March 6, 2025, 2:04 p.m. ET\n",
      "\n",
      "Tesla is the leading EV carmaker worldwide, but there is more to know about the Elon Musk-led company.\n",
      "\n",
      "Tesla (TSLA -6.23%) has one of the highest customer ratings of any company in the world. That's one of the three things savvy investors know about Tesla stock.\n",
      "\n",
      "Stock prices used were from the afternoon of Dec. 19, 2022. The video was published on Dec. 21, 2022.\n",
      "***********This is chunk: 31 ▲ S&P 500 +---% | ▲ Stock Advisor +---% Join The Motley Fool\n",
      "\n",
      "Accessibility Log In Help\n",
      "\n",
      "Accessibility Menu\n",
      "\n",
      "Free Article\n",
      "\n",
      "You're reading a free article with opinions that may differ from The Motley Fool's Premium Investing Services. Become a Motley Fool member today to get instant access to our top analyst recommendations, in-depth research, investing resources, and more. Learn More\n",
      "\n",
      "Tesla Stock: This Explains a Lot\n",
      "\n",
      "By Parkev Tatevosian, CFA – Feb 16, 2023 at 7:00AM\n",
      "\n",
      "NASDAQ: TSLA\n",
      "\n",
      "Tesla\n",
      "\n",
      "Market Cap\n",
      "\n",
      "$898B\n",
      "\n",
      "Today's Change\n",
      "\n",
      "(-6.23%) -$17.39\n",
      "\n",
      "Current Price\n",
      "\n",
      "$261.71\n",
      "\n",
      "Price as of March 6, 2025, 2:04 p.m. ET\n",
      "\n",
      "There's a lot of hype swirling around Tesla Stock. This is a look at the facts.\n",
      "\n",
      "This video will conduct a beginner-friendly financial statement analysis of Tesla (TSLA -6.23%) stock. Viewers will get an inside look at the facts and figures inside Tesla. Anyone interested in Tesla stock needs to see this video.\n",
      "***********This is chunk: 16 Stock prices used were from the trading day of May 25, 2023. The video was published on May 26, 2023.\n",
      "\n",
      "Neil Rozenbaum has positions in Tesla. The Motley Fool has positions in and recommends Tesla. The Motley Fool has a disclosure policy. Neil is an affiliate of The Motley Fool and may be compensated for promoting its services. If you choose to subscribe through his link, he will earn some extra money that supports his channel. His opinions remain his own and are unaffected by The Motley Fool.\n",
      "\n",
      "Related Articles\n",
      "\n",
      "Uber CEO Dara Khosrowshahi Just Gave Tesla Investors a Stark Warning\n",
      "\n",
      "Tesla Stock: Is This Pullback a Buying Opportunity?\n",
      "\n",
      "Could President Trump's Tariffs Rattle Tesla Stock? Here's What History Suggests.\n",
      "\n",
      "Tesla Stock vs. Apple Stock: Billionaires Buy One and Sell the Other\n",
      "\n",
      "Better Buy in 2025: Tesla Stock or Meta Platforms Stock?\n",
      "\n",
      "873%\n",
      "\n",
      "Premium Investing Services\n",
      "***********This is chunk: 32 Stock prices used were the afternoon prices of Feb. 13, 202. The video was published on Feb. 15, 2023.\n",
      "\n",
      "Parkev Tatevosian, CFA has no position in any of the stocks mentioned. The Motley Fool has positions in and recommends Tesla. The Motley Fool has a disclosure policy.\n",
      "\n",
      "Parkev Tatevosian is an affiliate of The Motley Fool and may be compensated for promoting its services. If you choose to subscribe through fool.com/parkev, he will earn some extra money that supports his channel. His opinions remain his own and are unaffected by The Motley Fool.\n",
      "\n",
      "Related Articles\n",
      "\n",
      "Tesla Has a China Problem\n",
      "\n",
      "Why Tesla Stock Is Plummeting Today\n",
      "\n",
      "Why Tesla Stock Tumbled 28% in February\n",
      "\n",
      "1 Wall Street Analyst Thinks Tesla Is Worth $2 Trillion. Is It a Buy Now?\n",
      "\n",
      "Is Tesla a Millionaire-Maker?\n",
      "\n",
      "873%\n",
      "\n",
      "Premium Investing Services\n",
      "\n",
      "Invest better with The Motley Fool. Get stock recommendations, portfolio guidance, and more from The Motley Fool's premium services.\n",
      "\n",
      "View Premium Services\n",
      "***********This is chunk: 35 ▲ S&P 500 +---% | ▲ Stock Advisor +---% Join The Motley Fool\n",
      "\n",
      "Accessibility Log In Help\n",
      "\n",
      "Accessibility Menu\n",
      "\n",
      "Free Article\n",
      "\n",
      "You're reading a free article with opinions that may differ from The Motley Fool's Premium Investing Services. Become a Motley Fool member today to get instant access to our top analyst recommendations, in-depth research, investing resources, and more. Learn More\n",
      "\n",
      "Shocking Stat: Tesla Is Underperforming GM by 58.6% in 2024\n",
      "\n",
      "By Travis Hoium – Apr 3, 2024 at 6:30AM\n",
      "\n",
      "NASDAQ: TSLA\n",
      "\n",
      "Tesla\n",
      "\n",
      "Market Cap\n",
      "\n",
      "$898B\n",
      "\n",
      "Today's Change\n",
      "\n",
      "(-6.18%) -$17.24\n",
      "\n",
      "Current Price\n",
      "\n",
      "$261.86\n",
      "\n",
      "Price as of March 6, 2025, 2:03 p.m. ET\n",
      "\n",
      "Tesla may be more valuable, but GM has been the better-performing stock by a mile in 2024.\n",
      "\n",
      "Tesla (TSLA -6.18%) is down in 2024, but not all auto stocks are feeling the same pain. General Motors (GM -2.36%) is supposed to be the one struggling, but it's outperforming Tesla by 58.6% in 2024 alone.\n",
      "***********This is chunk: 20 ▲ S&P 500 +---% | ▲ Stock Advisor +---% Join The Motley Fool\n",
      "\n",
      "Accessibility Log In Help\n",
      "\n",
      "Accessibility Menu\n",
      "\n",
      "Free Article\n",
      "\n",
      "You're reading a free article with opinions that may differ from The Motley Fool's Premium Investing Services. Become a Motley Fool member today to get instant access to our top analyst recommendations, in-depth research, investing resources, and more. Learn More\n",
      "\n",
      "My Shocking Tesla Cybertruck Predictions for 2024\n",
      "\n",
      "By Parkev Tatevosian, CFA – Dec 14, 2023 at 8:00AM\n",
      "\n",
      "NASDAQ: TSLA\n",
      "\n",
      "Tesla\n",
      "\n",
      "Market Cap\n",
      "\n",
      "$898B\n",
      "\n",
      "Today's Change\n",
      "\n",
      "(-6.23%) -$17.39\n",
      "\n",
      "Current Price\n",
      "\n",
      "$261.71\n",
      "\n",
      "Price as of March 6, 2025, 2:04 p.m. ET\n",
      "\n",
      "Tesla stock investors can finally celebrate as Tesla's Cybertruck is announced.\n",
      "\n",
      "Fool.com contributor Parkev Tatevosian discusses his Tesla Cybertruck predictions for 2024. Tesla (TSLA -6.23%) stock investors might be surprised at what he has to say.\n",
      "\n",
      "Stock prices used were the afternoon prices of Dec. 11, 2023. The video was published on Dec. 13, 2023.\n",
      "***********This is chunk: 25 General Motors (GM -2.37%) might not be as good as Tesla (TSLA -6.23%) in those areas, but it is trading at a fraction of the valuation of Tesla stock.\n",
      "\n",
      "Stock prices used were the afternoon prices of Oct. 22, 2024. The video was published on Oct. 24, 2024.\n",
      "\n",
      "Parkev Tatevosian, CFA has the following options: long December 2026 $120 puts on Tesla. The Motley Fool has positions in and recommends Tesla. The Motley Fool recommends General Motors and recommends the following options: long January 2025 $25 calls on General Motors. The Motley Fool has a disclosure policy. Parkev Tatevosian is an affiliate of The Motley Fool and may be compensated for promoting its services. If you choose to subscribe through his link, he will earn some extra money that supports his channel. His opinions remain his own and are unaffected by The Motley Fool.\n",
      "\n",
      "Related Articles\n",
      "\n",
      "Prediction: Trump's Tariffs Would Cause These Stocks to Be Big Losers in 2025\n",
      "***********This is chunk: 58 Stock prices used were the midday prices of Dec. 1, 2022. The video was published on Dec. 4, 2022.\n",
      "\n",
      "Zane Fracek has positions in Tesla. The Motley Fool has positions in and recommends Tesla. The Motley Fool has a disclosure policy. Zane Fracek is an affiliate of The Motley Fool and may be compensated for promoting its services. If you choose to subscribe through his link, he will earn some extra money that supports his channel. His opinions remain his own and are unaffected by The Motley Fool.\n",
      "\n",
      "Related Articles\n",
      "\n",
      "Should Netflix Replace Tesla in the \"Magnificent Seven\"?\n",
      "\n",
      "2 Top Stocks to Buy Now, According to Wall Street\n",
      "\n",
      "Tesla Stock Gains 13% as Investors Cheer Plan to \"Accelerate the Launch\" of Lower-Priced EVs\n",
      "\n",
      "Better \"Magnificent Seven\" Stock: Apple or Tesla?\n",
      "\n",
      "Cathie Wood Goes Bargain Hunting: 3 Stocks She Bought Last Week\n",
      "\n",
      "873%\n",
      "\n",
      "Premium Investing Services\n",
      "***********This is chunk: 39 ▲ S&P 500 +---% | ▲ Stock Advisor +---% Join The Motley Fool\n",
      "\n",
      "Accessibility Log In Help\n",
      "\n",
      "Accessibility Menu\n",
      "\n",
      "Free Article\n",
      "\n",
      "You're reading a free article with opinions that may differ from The Motley Fool's Premium Investing Services. Become a Motley Fool member today to get instant access to our top analyst recommendations, in-depth research, investing resources, and more. Learn More\n",
      "\n",
      "You Won't Believe What Tesla CEO Elon Musk Just Said\n",
      "\n",
      "By Parkev Tatevosian, CFA – Jan 31, 2024 at 2:48PM\n",
      "\n",
      "NASDAQ: TSLA\n",
      "\n",
      "Tesla\n",
      "\n",
      "Market Cap\n",
      "\n",
      "$898B\n",
      "\n",
      "Today's Change\n",
      "\n",
      "(-6.23%) -$17.39\n",
      "\n",
      "Current Price\n",
      "\n",
      "$261.71\n",
      "\n",
      "Price as of March 6, 2025, 2:04 p.m. ET\n",
      "\n",
      "Elon Musk is known for making shocking statements, but this one might take the cake.\n",
      "\n",
      "Fool.com contributor Parkev Tatevosian reviews the shocking statement from Tesla (TSLA -6.23%) CEO Elon Musk, and what it could mean for Tesla stock investors.\n",
      "\n",
      "Stock prices used were the afternoon prices of Jan. 29, 2024. The video was published on Jan. 31, 2024.\n"
     ]
    }
   ],
   "source": [
    "for i in Indices.tolist()[0]:\n",
    "    print(f\"***********This is chunk: {i}\", chunks[i])"
   ]
  },
  {
   "cell_type": "markdown",
   "metadata": {},
   "source": [
    "### LangChain Retrieval (Ignore)"
   ]
  },
  {
   "cell_type": "code",
   "execution_count": 58,
   "metadata": {},
   "outputs": [],
   "source": [
    "from langchain.chains import RetrievalQAWithSourcesChain"
   ]
  },
  {
   "cell_type": "code",
   "execution_count": 67,
   "metadata": {},
   "outputs": [],
   "source": [
    "from langchain import OpenAI"
   ]
  },
  {
   "cell_type": "code",
   "execution_count": 61,
   "metadata": {},
   "outputs": [],
   "source": [
    "LLM_API_KEY = os.getenv(\"OPEN_ROUTER_KEY\")"
   ]
  },
  {
   "cell_type": "code",
   "execution_count": 68,
   "metadata": {},
   "outputs": [
    {
     "name": "stderr",
     "output_type": "stream",
     "text": [
      "/var/folders/jj/1w9v7wf56_ldb_sbfv129l280000gn/T/ipykernel_80058/2582954192.py:1: LangChainDeprecationWarning: The class `OpenAI` was deprecated in LangChain 0.0.10 and will be removed in 1.0. An updated version of the class exists in the :class:`~langchain-openai package and should be used instead. To use it run `pip install -U :class:`~langchain-openai` and import as `from :class:`~langchain_openai import OpenAI``.\n",
      "  llm = OpenAI(temperature=0.9, max_tokens=500)\n"
     ]
    },
    {
     "ename": "ValidationError",
     "evalue": "1 validation error for OpenAI\n  Value error, Did not find openai_api_key, please add an environment variable `OPENAI_API_KEY` which contains it, or pass `openai_api_key` as a named parameter. [type=value_error, input_value={'temperature': 0.9, 'max...ne, 'http_client': None}, input_type=dict]\n    For further information visit https://errors.pydantic.dev/2.10/v/value_error",
     "output_type": "error",
     "traceback": [
      "\u001b[0;31m---------------------------------------------------------------------------\u001b[0m",
      "\u001b[0;31mValidationError\u001b[0m                           Traceback (most recent call last)",
      "Cell \u001b[0;32mIn[68], line 1\u001b[0m\n\u001b[0;32m----> 1\u001b[0m llm \u001b[38;5;241m=\u001b[39m OpenAI(temperature\u001b[38;5;241m=\u001b[39m\u001b[38;5;241m0.9\u001b[39m, max_tokens\u001b[38;5;241m=\u001b[39m\u001b[38;5;241m500\u001b[39m)\n",
      "File \u001b[0;32m~/anaconda3/lib/python3.11/site-packages/langchain_core/_api/deprecation.py:213\u001b[0m, in \u001b[0;36mdeprecated.<locals>.deprecate.<locals>.finalize.<locals>.warn_if_direct_instance\u001b[0;34m(self, *args, **kwargs)\u001b[0m\n\u001b[1;32m    211\u001b[0m     warned \u001b[38;5;241m=\u001b[39m \u001b[38;5;28;01mTrue\u001b[39;00m\n\u001b[1;32m    212\u001b[0m     emit_warning()\n\u001b[0;32m--> 213\u001b[0m \u001b[38;5;28;01mreturn\u001b[39;00m wrapped(\u001b[38;5;28mself\u001b[39m, \u001b[38;5;241m*\u001b[39margs, \u001b[38;5;241m*\u001b[39m\u001b[38;5;241m*\u001b[39mkwargs)\n",
      "File \u001b[0;32m~/anaconda3/lib/python3.11/site-packages/langchain_core/load/serializable.py:111\u001b[0m, in \u001b[0;36mSerializable.__init__\u001b[0;34m(self, *args, **kwargs)\u001b[0m\n\u001b[1;32m    109\u001b[0m \u001b[38;5;28;01mdef\u001b[39;00m \u001b[38;5;21m__init__\u001b[39m(\u001b[38;5;28mself\u001b[39m, \u001b[38;5;241m*\u001b[39margs: Any, \u001b[38;5;241m*\u001b[39m\u001b[38;5;241m*\u001b[39mkwargs: Any) \u001b[38;5;241m-\u001b[39m\u001b[38;5;241m>\u001b[39m \u001b[38;5;28;01mNone\u001b[39;00m:\n\u001b[1;32m    110\u001b[0m \u001b[38;5;250m    \u001b[39m\u001b[38;5;124;03m\"\"\"\"\"\"\u001b[39;00m\n\u001b[0;32m--> 111\u001b[0m     \u001b[38;5;28msuper\u001b[39m()\u001b[38;5;241m.\u001b[39m\u001b[38;5;21m__init__\u001b[39m(\u001b[38;5;241m*\u001b[39margs, \u001b[38;5;241m*\u001b[39m\u001b[38;5;241m*\u001b[39mkwargs)\n",
      "File \u001b[0;32m~/anaconda3/lib/python3.11/site-packages/pydantic/main.py:214\u001b[0m, in \u001b[0;36mBaseModel.__init__\u001b[0;34m(self, **data)\u001b[0m\n\u001b[1;32m    212\u001b[0m \u001b[38;5;66;03m# `__tracebackhide__` tells pytest and some other tools to omit this function from tracebacks\u001b[39;00m\n\u001b[1;32m    213\u001b[0m __tracebackhide__ \u001b[38;5;241m=\u001b[39m \u001b[38;5;28;01mTrue\u001b[39;00m\n\u001b[0;32m--> 214\u001b[0m validated_self \u001b[38;5;241m=\u001b[39m \u001b[38;5;28mself\u001b[39m\u001b[38;5;241m.\u001b[39m__pydantic_validator__\u001b[38;5;241m.\u001b[39mvalidate_python(data, self_instance\u001b[38;5;241m=\u001b[39m\u001b[38;5;28mself\u001b[39m)\n\u001b[1;32m    215\u001b[0m \u001b[38;5;28;01mif\u001b[39;00m \u001b[38;5;28mself\u001b[39m \u001b[38;5;129;01mis\u001b[39;00m \u001b[38;5;129;01mnot\u001b[39;00m validated_self:\n\u001b[1;32m    216\u001b[0m     warnings\u001b[38;5;241m.\u001b[39mwarn(\n\u001b[1;32m    217\u001b[0m         \u001b[38;5;124m'\u001b[39m\u001b[38;5;124mA custom validator is returning a value other than `self`.\u001b[39m\u001b[38;5;130;01m\\n\u001b[39;00m\u001b[38;5;124m'\u001b[39m\n\u001b[1;32m    218\u001b[0m         \u001b[38;5;124m\"\u001b[39m\u001b[38;5;124mReturning anything other than `self` from a top level model validator isn\u001b[39m\u001b[38;5;124m'\u001b[39m\u001b[38;5;124mt supported when validating via `__init__`.\u001b[39m\u001b[38;5;130;01m\\n\u001b[39;00m\u001b[38;5;124m\"\u001b[39m\n\u001b[1;32m    219\u001b[0m         \u001b[38;5;124m'\u001b[39m\u001b[38;5;124mSee the `model_validator` docs (https://docs.pydantic.dev/latest/concepts/validators/#model-validators) for more details.\u001b[39m\u001b[38;5;124m'\u001b[39m,\n\u001b[1;32m    220\u001b[0m         stacklevel\u001b[38;5;241m=\u001b[39m\u001b[38;5;241m2\u001b[39m,\n\u001b[1;32m    221\u001b[0m     )\n",
      "\u001b[0;31mValidationError\u001b[0m: 1 validation error for OpenAI\n  Value error, Did not find openai_api_key, please add an environment variable `OPENAI_API_KEY` which contains it, or pass `openai_api_key` as a named parameter. [type=value_error, input_value={'temperature': 0.9, 'max...ne, 'http_client': None}, input_type=dict]\n    For further information visit https://errors.pydantic.dev/2.10/v/value_error"
     ]
    }
   ],
   "source": [
    "llm = OpenAI(temperature=0.9, max_tokens=500)"
   ]
  },
  {
   "cell_type": "code",
   "execution_count": 65,
   "metadata": {},
   "outputs": [
    {
     "ename": "OpenAIError",
     "evalue": "The api_key client option must be set either by passing api_key to the client or by setting the OPENAI_API_KEY environment variable",
     "output_type": "error",
     "traceback": [
      "\u001b[0;31m---------------------------------------------------------------------------\u001b[0m",
      "\u001b[0;31mOpenAIError\u001b[0m                               Traceback (most recent call last)",
      "Cell \u001b[0;32mIn[65], line 1\u001b[0m\n\u001b[0;32m----> 1\u001b[0m llm \u001b[38;5;241m=\u001b[39m OpenAI(\n\u001b[1;32m      2\u001b[0m   base_url\u001b[38;5;241m=\u001b[39m\u001b[38;5;124m\"\u001b[39m\u001b[38;5;124mhttps://openrouter.ai/api/v1\u001b[39m\u001b[38;5;124m\"\u001b[39m,\n\u001b[1;32m      3\u001b[0m   api_key\u001b[38;5;241m=\u001b[39mLLM_API_KEY\n\u001b[1;32m      4\u001b[0m )\n",
      "File \u001b[0;32m~/anaconda3/lib/python3.11/site-packages/openai/_client.py:105\u001b[0m, in \u001b[0;36mOpenAI.__init__\u001b[0;34m(self, api_key, organization, project, base_url, timeout, max_retries, default_headers, default_query, http_client, _strict_response_validation)\u001b[0m\n\u001b[1;32m    103\u001b[0m     api_key \u001b[38;5;241m=\u001b[39m os\u001b[38;5;241m.\u001b[39menviron\u001b[38;5;241m.\u001b[39mget(\u001b[38;5;124m\"\u001b[39m\u001b[38;5;124mOPENAI_API_KEY\u001b[39m\u001b[38;5;124m\"\u001b[39m)\n\u001b[1;32m    104\u001b[0m \u001b[38;5;28;01mif\u001b[39;00m api_key \u001b[38;5;129;01mis\u001b[39;00m \u001b[38;5;28;01mNone\u001b[39;00m:\n\u001b[0;32m--> 105\u001b[0m     \u001b[38;5;28;01mraise\u001b[39;00m OpenAIError(\n\u001b[1;32m    106\u001b[0m         \u001b[38;5;124m\"\u001b[39m\u001b[38;5;124mThe api_key client option must be set either by passing api_key to the client or by setting the OPENAI_API_KEY environment variable\u001b[39m\u001b[38;5;124m\"\u001b[39m\n\u001b[1;32m    107\u001b[0m     )\n\u001b[1;32m    108\u001b[0m \u001b[38;5;28mself\u001b[39m\u001b[38;5;241m.\u001b[39mapi_key \u001b[38;5;241m=\u001b[39m api_key\n\u001b[1;32m    110\u001b[0m \u001b[38;5;28;01mif\u001b[39;00m organization \u001b[38;5;129;01mis\u001b[39;00m \u001b[38;5;28;01mNone\u001b[39;00m:\n",
      "\u001b[0;31mOpenAIError\u001b[0m: The api_key client option must be set either by passing api_key to the client or by setting the OPENAI_API_KEY environment variable"
     ]
    }
   ],
   "source": [
    "llm = OpenAI(\n",
    "  base_url=\"https://openrouter.ai/api/v1\",\n",
    "  api_key=LLM_API_KEY\n",
    ")"
   ]
  },
  {
   "cell_type": "code",
   "execution_count": 59,
   "metadata": {},
   "outputs": [
    {
     "ename": "NameError",
     "evalue": "name 'llm' is not defined",
     "output_type": "error",
     "traceback": [
      "\u001b[0;31m---------------------------------------------------------------------------\u001b[0m",
      "\u001b[0;31mNameError\u001b[0m                                 Traceback (most recent call last)",
      "Cell \u001b[0;32mIn[59], line 1\u001b[0m\n\u001b[0;32m----> 1\u001b[0m chain \u001b[38;5;241m=\u001b[39m RetrievalQAWithSourcesChain\u001b[38;5;241m.\u001b[39mfrom_llm(llm\u001b[38;5;241m=\u001b[39mllm, retriever\u001b[38;5;241m=\u001b[39mindex\u001b[38;5;241m.\u001b[39mas_retriever())\n",
      "\u001b[0;31mNameError\u001b[0m: name 'llm' is not defined"
     ]
    }
   ],
   "source": [
    "chain = RetrievalQAWithSourcesChain.from_llm(llm=llm, retriever=index.as_retriever())"
   ]
  },
  {
   "cell_type": "code",
   "execution_count": null,
   "metadata": {},
   "outputs": [],
   "source": []
  }
 ],
 "metadata": {
  "kernelspec": {
   "display_name": "base",
   "language": "python",
   "name": "python3"
  },
  "language_info": {
   "codemirror_mode": {
    "name": "ipython",
    "version": 3
   },
   "file_extension": ".py",
   "mimetype": "text/x-python",
   "name": "python",
   "nbconvert_exporter": "python",
   "pygments_lexer": "ipython3",
   "version": "3.11.8"
  }
 },
 "nbformat": 4,
 "nbformat_minor": 2
}
