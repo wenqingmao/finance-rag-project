{
 "cells": [
  {
   "cell_type": "markdown",
   "metadata": {},
   "source": [
    "# LLM Testing"
   ]
  },
  {
   "cell_type": "markdown",
   "metadata": {},
   "source": [
    "## Openrouter"
   ]
  },
  {
   "cell_type": "markdown",
   "metadata": {},
   "source": [
    "### Deepseek R1 (free)"
   ]
  },
  {
   "cell_type": "code",
   "execution_count": null,
   "metadata": {},
   "outputs": [
    {
     "name": "stdout",
     "output_type": "stream",
     "text": [
      "The meaning of life is a deeply personal and philosophically complex question with no universally agreed-upon answer. Here’s a synthesis of perspectives:\n",
      "\n",
      "1. **Philosophical Views**: \n",
      "   - **Existentialism** posits that life has no inherent meaning, and individuals must create their own purpose through choices and actions (e.g., Sartre, Camus).\n",
      "   - **Virtue Ethics** (Aristotle) suggests meaning arises from pursuing excellence, virtue, and flourishing (*eudaimonia*).\n",
      "   - **Absurdism** acknowledges the conflict between humanity’s search for meaning and the universe’s indifference, advocating for embracing life despite its lack of inherent purpose.\n",
      "\n",
      "2. **Religious/Spiritual Perspectives**:\n",
      "   - Many religions define meaning through a divine purpose, such as serving a higher power (Christianity, Islam), achieving enlightenment (Buddhism), or aligning with cosmic order (Hinduism).\n",
      "\n",
      "3. **Scientific and Evolutionary Angles**:\n",
      "   - Biology frames life’s purpose in terms of survival and reproduction, while cosmology highlights our fleeting yet remarkable existence in an ancient, vast universe.\n",
      "\n",
      "4. **Subjective Experience**:\n",
      "   - Individuals often find meaning in relationships, creativity, personal growth, or contributing to others (Viktor Frankl emphasized finding meaning even in suffering).\n",
      "\n",
      "5. **Cultural Context**:\n",
      "   - Collectivist cultures may emphasize community and legacy, while individualist societies might prioritize personal fulfillment.\n",
      "\n",
      "6. **Happiness vs. Meaning**:\n",
      "   - Research distinguishes fleeting happiness from enduring meaning, which often involves connection to something larger than oneself (e.g., art, knowledge, altruism).\n",
      "\n",
      "**Conclusion**: Life’s meaning is not a singular truth but a mosaic of possibilities. It may be discovered, created, or embraced through personal beliefs, relationships, aspirations, and the ongoing quest for understanding. While objective answers remain elusive, the search itself can be profoundly meaningful.\n"
     ]
    }
   ],
   "source": [
    "from openai import OpenAI\n",
    "\n",
    "client = OpenAI(\n",
    "  base_url=\"https://openrouter.ai/api/v1\",\n",
    "  api_key=\"\",\n",
    ")\n",
    "\n",
    "completion = client.chat.completions.create(\n",
    "  extra_headers={\n",
    "    \"HTTP-Referer\": \"<YOUR_SITE_URL>\", # Optional. Site URL for rankings on openrouter.ai.\n",
    "    \"X-Title\": \"<YOUR_SITE_NAME>\", # Optional. Site title for rankings on openrouter.ai.\n",
    "  },\n",
    "  extra_body={},\n",
    "  model=\"deepseek/deepseek-r1:free\",\n",
    "  messages=[\n",
    "    {\n",
    "      \"role\": \"user\",\n",
    "      \"content\": \"What is the meaning of life?\"\n",
    "    }\n",
    "  ]\n",
    ")\n",
    "print(completion.choices[0].message.content)"
   ]
  },
  {
   "cell_type": "markdown",
   "metadata": {},
   "source": [
    "### Llama 3.3 70B Instruct (free)"
   ]
  },
  {
   "cell_type": "code",
   "execution_count": null,
   "metadata": {},
   "outputs": [
    {
     "name": "stdout",
     "output_type": "stream",
     "text": [
      "The meaning of life is a question that has puzzled philosophers, theologians, scientists, and many others for centuries. It's a complex and deeply personal question that can have different answers depending on one's cultural, religious, and individual perspectives. Here's a brief exploration of some possible approaches to understanding the meaning of life:\n",
      "\n",
      "1. **Philosophical perspectives**: Philosophers have offered various interpretations, including:\n",
      "\t* **Hedonism**: Life's meaning is found in the pursuit of pleasure and happiness.\n",
      "\t* **Epicureanism**: Life's meaning is found in the absence of physical pain and mental distress.\n",
      "\t* **Existentialism**: Life has no inherent meaning; individuals must create their own purpose.\n",
      "\t* **Humanism**: Life's meaning is found in the pursuit of knowledge, beauty, and human flourishing.\n",
      "2. **Religious and spiritual perspectives**: Many religious traditions offer answers to the question of life's meaning, such as:\n",
      "\t* **Christianity**: Life's meaning is found in serving God and following Jesus' teachings.\n",
      "\t* **Buddhism**: Life's meaning is found in achieving enlightenment and ending suffering.\n",
      "\t* **Islam**: Life's meaning is found in submitting to Allah's will and following the Quran.\n",
      "\t* **Hinduism**: Life's meaning is found in realizing one's true self (Atman) and achieving moksha (liberation).\n",
      "3. **Scientific perspectives**: Some scientists and thinkers have offered explanations based on evolutionary biology, psychology, and cosmology, such as:\n",
      "\t* **Evolutionary theory**: Life's meaning is found in the survival and reproduction of individuals and species.\n",
      "\t* **Psychological theory**: Life's meaning is found in the pursuit of happiness, self-actualization, and personal growth.\n",
      "\t* **Cosmological theory**: Life's meaning is found in the context of the universe's origins, evolution, and ultimate fate.\n",
      "4. **Personal and subjective perspectives**: Ultimately, the meaning of life may be a highly individualized and subjective question, with answers that vary from person to person. Some common themes include:\n",
      "\t* **Love and relationships**: Life's meaning is found in building strong connections with others.\n",
      "\t* **Personal growth and self-improvement**: Life's meaning is found in learning, self-awareness, and self-improvement.\n",
      "\t* **Creative expression and contribution**: Life's meaning is found in creating something of value, whether artistic, scientific, or social.\n",
      "\t* **Experiencing and appreciating life**: Life's meaning is found in the simple act of living, enjoying, and appreciating the world around us.\n",
      "\n",
      "It's essential to recognize that these perspectives are not mutually exclusive, and many people find meaning in life through a combination of different approaches. Ultimately, the meaning of life may be a question that each individual must answer for themselves, and it may evolve over time as they grow, learn, and experience the world.\n"
     ]
    }
   ],
   "source": [
    "from openai import OpenAI\n",
    "\n",
    "client = OpenAI(\n",
    "  base_url=\"https://openrouter.ai/api/v1\",\n",
    "  api_key=\"\",\n",
    ")\n",
    "\n",
    "completion = client.chat.completions.create(\n",
    "  extra_headers={\n",
    "    \"HTTP-Referer\": \"<YOUR_SITE_URL>\", # Optional. Site URL for rankings on openrouter.ai.\n",
    "    \"X-Title\": \"<YOUR_SITE_NAME>\", # Optional. Site title for rankings on openrouter.ai.\n",
    "  },\n",
    "  extra_body={},\n",
    "  model=\"meta-llama/llama-3.3-70b-instruct:free\",\n",
    "  messages=[\n",
    "    {\n",
    "      \"role\": \"user\",\n",
    "      \"content\": \"What is the meaning of life?\"\n",
    "    }\n",
    "  ]\n",
    ")\n",
    "print(completion.choices[0].message.content)"
   ]
  }
 ],
 "metadata": {
  "kernelspec": {
   "display_name": "base",
   "language": "python",
   "name": "python3"
  },
  "language_info": {
   "codemirror_mode": {
    "name": "ipython",
    "version": 3
   },
   "file_extension": ".py",
   "mimetype": "text/x-python",
   "name": "python",
   "nbconvert_exporter": "python",
   "pygments_lexer": "ipython3",
   "version": "3.12.7"
  }
 },
 "nbformat": 4,
 "nbformat_minor": 2
}
